{
 "cells": [
  {
   "cell_type": "markdown",
   "metadata": {},
   "source": [
    "![image info](https://raw.githubusercontent.com/albahnsen/MIAD_ML_and_NLP/main/images/banner_1.png)"
   ]
  },
  {
   "cell_type": "markdown",
   "metadata": {},
   "source": [
    "# Taller: Construcción e implementación de modelos Bagging, Random Forest y XGBoost\n",
    "\n",
    "En este taller podrán poner en práctica sus conocimientos sobre la construcción e implementación de modelos de Bagging, Random Forest y XGBoost. El taller está constituido por 8 puntos, en los cuales deberan seguir las intrucciones de cada numeral para su desarrollo."
   ]
  },
  {
   "cell_type": "markdown",
   "metadata": {},
   "source": [
    "## Datos predicción precio de automóviles\n",
    "\n",
    "En este taller se usará el conjunto de datos de Car Listings de Kaggle donde cada observación representa el precio de un automóvil teniendo en cuenta distintas variables como año, marca, modelo, entre otras. El objetivo es predecir el precio del automóvil. Para más detalles puede visitar el siguiente enlace: [datos](https://www.kaggle.com/jpayne/852k-used-car-listings)."
   ]
  },
  {
   "cell_type": "code",
   "execution_count": 1,
   "metadata": {},
   "outputs": [],
   "source": [
    "# Librerías\n",
    "import warnings\n",
    "import pandas as pd\n",
    "import numpy as np\n",
    "import matplotlib.pyplot as plt\n",
    "from sklearn.ensemble import RandomForestRegressor\n",
    "from sklearn.model_selection import cross_val_score\n",
    "from sklearn.metrics import mean_squared_error, mean_absolute_error, root_mean_squared_error\n",
    "from sklearn.model_selection import RandomizedSearchCV\n",
    "from scipy.stats import randint\n",
    "from sklearn.model_selection import KFold\n",
    "from xgboost import XGBRegressor\n",
    "from sklearn.model_selection import cross_val_score\n",
    "import math\n",
    "from sklearn.tree import DecisionTreeRegressor\n",
    "from sklearn.ensemble import BaggingRegressor\n",
    "\n",
    "warnings.filterwarnings('ignore')"
   ]
  },
  {
   "cell_type": "code",
   "execution_count": 2,
   "metadata": {},
   "outputs": [
    {
     "data": {
      "text/html": [
       "<div>\n",
       "<style scoped>\n",
       "    .dataframe tbody tr th:only-of-type {\n",
       "        vertical-align: middle;\n",
       "    }\n",
       "\n",
       "    .dataframe tbody tr th {\n",
       "        vertical-align: top;\n",
       "    }\n",
       "\n",
       "    .dataframe thead th {\n",
       "        text-align: right;\n",
       "    }\n",
       "</style>\n",
       "<table border=\"1\" class=\"dataframe\">\n",
       "  <thead>\n",
       "    <tr style=\"text-align: right;\">\n",
       "      <th></th>\n",
       "      <th>Price</th>\n",
       "      <th>Year</th>\n",
       "      <th>Mileage</th>\n",
       "      <th>M_Camry</th>\n",
       "      <th>M_Camry4dr</th>\n",
       "      <th>M_CamryBase</th>\n",
       "      <th>M_CamryL</th>\n",
       "      <th>M_CamryLE</th>\n",
       "      <th>M_CamrySE</th>\n",
       "      <th>M_CamryXLE</th>\n",
       "    </tr>\n",
       "  </thead>\n",
       "  <tbody>\n",
       "    <tr>\n",
       "      <th>7</th>\n",
       "      <td>21995</td>\n",
       "      <td>2014</td>\n",
       "      <td>6480</td>\n",
       "      <td>False</td>\n",
       "      <td>False</td>\n",
       "      <td>False</td>\n",
       "      <td>True</td>\n",
       "      <td>False</td>\n",
       "      <td>False</td>\n",
       "      <td>False</td>\n",
       "    </tr>\n",
       "    <tr>\n",
       "      <th>11</th>\n",
       "      <td>13995</td>\n",
       "      <td>2014</td>\n",
       "      <td>39972</td>\n",
       "      <td>False</td>\n",
       "      <td>False</td>\n",
       "      <td>False</td>\n",
       "      <td>False</td>\n",
       "      <td>True</td>\n",
       "      <td>False</td>\n",
       "      <td>False</td>\n",
       "    </tr>\n",
       "    <tr>\n",
       "      <th>167</th>\n",
       "      <td>17941</td>\n",
       "      <td>2016</td>\n",
       "      <td>18989</td>\n",
       "      <td>False</td>\n",
       "      <td>False</td>\n",
       "      <td>False</td>\n",
       "      <td>False</td>\n",
       "      <td>False</td>\n",
       "      <td>True</td>\n",
       "      <td>False</td>\n",
       "    </tr>\n",
       "    <tr>\n",
       "      <th>225</th>\n",
       "      <td>12493</td>\n",
       "      <td>2014</td>\n",
       "      <td>51330</td>\n",
       "      <td>False</td>\n",
       "      <td>False</td>\n",
       "      <td>False</td>\n",
       "      <td>True</td>\n",
       "      <td>False</td>\n",
       "      <td>False</td>\n",
       "      <td>False</td>\n",
       "    </tr>\n",
       "    <tr>\n",
       "      <th>270</th>\n",
       "      <td>7994</td>\n",
       "      <td>2007</td>\n",
       "      <td>116065</td>\n",
       "      <td>False</td>\n",
       "      <td>True</td>\n",
       "      <td>False</td>\n",
       "      <td>False</td>\n",
       "      <td>False</td>\n",
       "      <td>False</td>\n",
       "      <td>False</td>\n",
       "    </tr>\n",
       "  </tbody>\n",
       "</table>\n",
       "</div>"
      ],
      "text/plain": [
       "     Price  Year  Mileage  M_Camry  M_Camry4dr  M_CamryBase  M_CamryL  \\\n",
       "7    21995  2014     6480    False       False        False      True   \n",
       "11   13995  2014    39972    False       False        False     False   \n",
       "167  17941  2016    18989    False       False        False     False   \n",
       "225  12493  2014    51330    False       False        False      True   \n",
       "270   7994  2007   116065    False        True        False     False   \n",
       "\n",
       "     M_CamryLE  M_CamrySE  M_CamryXLE  \n",
       "7        False      False       False  \n",
       "11        True      False       False  \n",
       "167      False       True       False  \n",
       "225      False      False       False  \n",
       "270      False      False       False  "
      ]
     },
     "execution_count": 2,
     "metadata": {},
     "output_type": "execute_result"
    }
   ],
   "source": [
    "# Importación de librerías\n",
    "%matplotlib inline\n",
    "import pandas as pd\n",
    "\n",
    "# Lectura de la información de archivo .csv\n",
    "data = pd.read_csv('https://raw.githubusercontent.com/albahnsen/MIAD_ML_and_NLP/main/datasets/dataTrain_carListings.zip')\n",
    "\n",
    "# Preprocesamiento de datos para el taller\n",
    "data = data.loc[data['Model'].str.contains('Camry')].drop(['Make', 'State'], axis=1)\n",
    "data = data.join(pd.get_dummies(data['Model'], prefix='M'))\n",
    "data = data.drop(['Model'], axis=1)\n",
    "\n",
    "# Visualización dataset\n",
    "data.head()"
   ]
  },
  {
   "cell_type": "code",
   "execution_count": 3,
   "metadata": {},
   "outputs": [],
   "source": [
    "# Separación de variables predictoras (X) y variable de interés (y)\n",
    "y = data['Price']\n",
    "X = data.drop(['Price'], axis=1)"
   ]
  },
  {
   "cell_type": "code",
   "execution_count": 4,
   "metadata": {},
   "outputs": [],
   "source": [
    "# Separación de datos en set de entrenamiento y test\n",
    "from sklearn.model_selection import train_test_split\n",
    "X_train, X_test, y_train, y_test = train_test_split(X, y, test_size=0.33, random_state=42)"
   ]
  },
  {
   "cell_type": "markdown",
   "metadata": {},
   "source": [
    "### Punto 1 - Árbol de decisión manual\n",
    "\n",
    "En la celda 1 creen un árbol de decisión **manualmente**  que considere los set de entrenamiento y test definidos anteriormente y presenten el RMSE y MAE del modelo en el set de test."
   ]
  },
  {
   "cell_type": "code",
   "execution_count": 5,
   "metadata": {},
   "outputs": [
    {
     "name": "stdout",
     "output_type": "stream",
     "text": [
      "CV RMSE : 2117.7601131314086\n",
      "CV MAE: 1583.7609810124345\n",
      "Test RMSE: 2145.236393110967\n",
      "Test MAE: 1597.4042051578137\n"
     ]
    }
   ],
   "source": [
    "# Celda 1\n",
    "def mse(y):\n",
    "    return np.mean((y - np.mean(y)) ** 2)\n",
    "\n",
    "def mse_reduction(X_col, y, split):\n",
    "\n",
    "    filter_l = X_col < split\n",
    "    y_l = y[filter_l]\n",
    "    y_r = y[~filter_l]\n",
    "\n",
    "    mse_total = mse(y)\n",
    "\n",
    "    mse_l = mse(y_l)\n",
    "    mse_r = mse(y_r)\n",
    "\n",
    "    n_l, n_r = len(y_l), len(y_r)\n",
    "    mse_reduction_ = mse_total - (n_l / (n_l + n_r) * mse_l + n_r / (n_l + n_r) * mse_r)\n",
    "\n",
    "    return mse_reduction_\n",
    "\n",
    "def best_split(X, y, num_pct=10):\n",
    "    best = [None, None, -np.inf]\n",
    "\n",
    "    for j in range(X.shape[1]):\n",
    "        col = X.iloc[:, j]\n",
    "\n",
    "        if col.dtype == bool or set(col.unique()) <= {0, 1}:\n",
    "            splits = [0.5]\n",
    "        else:\n",
    "            splits = np.percentile(X.iloc[:, j], np.linspace(0, 100, num_pct + 2))[1:-1]\n",
    "            splits = np.unique(splits)\n",
    "\n",
    "        for split in splits:\n",
    "            gain = mse_reduction(X.iloc[:, j], y, split)\n",
    "            if gain > best[2]:\n",
    "                best = [j, split, gain]\n",
    "\n",
    "    return best\n",
    "\n",
    "def tree_grow(X,y, level=0, min_gain=0.001, max_depth=None, num_pct=10):\n",
    "\n",
    "    if len(y) <= 1 or (max_depth is not None and level >= max_depth):\n",
    "        return {'pred': np.mean(y), 'split': -1}\n",
    "\n",
    "    j, split, gain = best_split(X, y, num_pct)\n",
    "    if gain < min_gain:\n",
    "        return {'pred': np.mean(y), 'split': -1}\n",
    "\n",
    "    mask = X.iloc[:, j] < split\n",
    "    left = tree_grow(X[mask], y[mask], level + 1, min_gain, max_depth, num_pct)\n",
    "    right = tree_grow(X[~mask], y[~mask], level + 1, min_gain, max_depth, num_pct)\n",
    "\n",
    "    return {\n",
    "        'split': (j,split),\n",
    "        'left': left,\n",
    "        'right': right,\n",
    "        'pred': np.mean(y)\n",
    "    }\n",
    "\n",
    "def tree_predict(x, tree):\n",
    "    if tree['split'] == -1:\n",
    "        return tree['pred']\n",
    "    j, split = tree['split']\n",
    "    if x[j] < split:\n",
    "        return tree_predict(x, tree['left'])\n",
    "    else:\n",
    "        return tree_predict(x, tree['right'])\n",
    "\n",
    "def predict_tree(X, tree):\n",
    "    return X.apply(lambda row: tree_predict(row,tree), axis=1)\n",
    "\n",
    "def cross_val_metrics(X, y, k=5, **tree_params):\n",
    "    kf = KFold(n_splits=k, shuffle=True, random_state=0)\n",
    "    rmse_list = []\n",
    "    mae_list = []\n",
    "\n",
    "    for train_idx, val_idx in kf.split(X):\n",
    "        X_train, X_val = X.iloc[train_idx], X.iloc[val_idx]\n",
    "        y_train, y_val = y.iloc[train_idx], y.iloc[val_idx]\n",
    "\n",
    "        tree = tree_grow(X_train, y_train, **tree_params)\n",
    "        y_pred = predict_tree(X_val, tree)\n",
    "\n",
    "        rmse_list.append(root_mean_squared_error(y_val, y_pred))\n",
    "        mae_list.append(mean_absolute_error(y_val, y_pred))\n",
    "\n",
    "    return np.mean(rmse_list), np.mean(mae_list)\n",
    "\n",
    "rmse_cv, mae_cv = cross_val_metrics(X_train, y_train, k=5, max_depth=None, num_pct=10, min_gain=0.001)\n",
    "print(\"CV RMSE :\", rmse_cv)\n",
    "print(\"CV MAE:\", mae_cv)  \n",
    "\n",
    "tree = tree_grow(X_train, y_train, max_depth=None, num_pct=10, min_gain=0.001)\n",
    "\n",
    "y_pred_test = predict_tree(X_test, tree)\n",
    "rmse_test = root_mean_squared_error(y_test, y_pred_test)\n",
    "mae_test = mean_absolute_error(y_test, y_pred_test)\n",
    "\n",
    "print(\"Test RMSE:\", rmse_test)\n",
    "print(\"Test MAE:\", mae_test)    "
   ]
  },
  {
   "cell_type": "markdown",
   "metadata": {},
   "source": [
    "### Punto 2 - Bagging manual\n",
    "\n",
    "En la celda 2 creen un modelo bagging **manualmente** con 10 árboles de regresión y comenten sobre el desempeño del modelo."
   ]
  },
  {
   "cell_type": "code",
   "execution_count": 6,
   "metadata": {},
   "outputs": [
    {
     "name": "stdout",
     "output_type": "stream",
     "text": [
      "Errores individuales de los 10 árboles por fold (RMSE)\n"
     ]
    },
    {
     "data": {
      "text/html": [
       "<div>\n",
       "<style scoped>\n",
       "    .dataframe tbody tr th:only-of-type {\n",
       "        vertical-align: middle;\n",
       "    }\n",
       "\n",
       "    .dataframe tbody tr th {\n",
       "        vertical-align: top;\n",
       "    }\n",
       "\n",
       "    .dataframe thead th {\n",
       "        text-align: right;\n",
       "    }\n",
       "</style>\n",
       "<table border=\"1\" class=\"dataframe\">\n",
       "  <thead>\n",
       "    <tr style=\"text-align: right;\">\n",
       "      <th></th>\n",
       "      <th>Árbol 1</th>\n",
       "      <th>Árbol 2</th>\n",
       "      <th>Árbol 3</th>\n",
       "      <th>Árbol 4</th>\n",
       "      <th>Árbol 5</th>\n",
       "      <th>Árbol 6</th>\n",
       "      <th>Árbol 7</th>\n",
       "      <th>Árbol 8</th>\n",
       "      <th>Árbol 9</th>\n",
       "      <th>Árbol 10</th>\n",
       "    </tr>\n",
       "  </thead>\n",
       "  <tbody>\n",
       "    <tr>\n",
       "      <th>Fold 1</th>\n",
       "      <td>2098.093235</td>\n",
       "      <td>2169.736687</td>\n",
       "      <td>2184.325243</td>\n",
       "      <td>2149.289577</td>\n",
       "      <td>2055.240184</td>\n",
       "      <td>2136.004816</td>\n",
       "      <td>2148.974875</td>\n",
       "      <td>2106.506652</td>\n",
       "      <td>2084.270393</td>\n",
       "      <td>2093.950091</td>\n",
       "    </tr>\n",
       "    <tr>\n",
       "      <th>Fold 2</th>\n",
       "      <td>2117.819638</td>\n",
       "      <td>2060.965928</td>\n",
       "      <td>2087.919507</td>\n",
       "      <td>2134.789508</td>\n",
       "      <td>2165.186737</td>\n",
       "      <td>2133.675918</td>\n",
       "      <td>2124.178383</td>\n",
       "      <td>2157.784681</td>\n",
       "      <td>2235.866811</td>\n",
       "      <td>2156.037095</td>\n",
       "    </tr>\n",
       "    <tr>\n",
       "      <th>Fold 3</th>\n",
       "      <td>2193.895488</td>\n",
       "      <td>2162.279841</td>\n",
       "      <td>2128.505920</td>\n",
       "      <td>2051.644383</td>\n",
       "      <td>2147.385899</td>\n",
       "      <td>2117.186019</td>\n",
       "      <td>2040.636353</td>\n",
       "      <td>2171.851754</td>\n",
       "      <td>2105.432417</td>\n",
       "      <td>2201.459381</td>\n",
       "    </tr>\n",
       "    <tr>\n",
       "      <th>Fold 4</th>\n",
       "      <td>2177.574422</td>\n",
       "      <td>2110.902385</td>\n",
       "      <td>2073.852274</td>\n",
       "      <td>2133.160595</td>\n",
       "      <td>2152.306169</td>\n",
       "      <td>2176.528696</td>\n",
       "      <td>2248.847727</td>\n",
       "      <td>2132.660164</td>\n",
       "      <td>2130.130672</td>\n",
       "      <td>2078.786383</td>\n",
       "    </tr>\n",
       "    <tr>\n",
       "      <th>Fold 5</th>\n",
       "      <td>2011.581932</td>\n",
       "      <td>2146.489143</td>\n",
       "      <td>2021.513671</td>\n",
       "      <td>2070.595118</td>\n",
       "      <td>2063.014469</td>\n",
       "      <td>2088.398531</td>\n",
       "      <td>2204.148698</td>\n",
       "      <td>2045.934532</td>\n",
       "      <td>2086.830968</td>\n",
       "      <td>2041.894361</td>\n",
       "    </tr>\n",
       "  </tbody>\n",
       "</table>\n",
       "</div>"
      ],
      "text/plain": [
       "            Árbol 1      Árbol 2      Árbol 3      Árbol 4      Árbol 5  \\\n",
       "Fold 1  2098.093235  2169.736687  2184.325243  2149.289577  2055.240184   \n",
       "Fold 2  2117.819638  2060.965928  2087.919507  2134.789508  2165.186737   \n",
       "Fold 3  2193.895488  2162.279841  2128.505920  2051.644383  2147.385899   \n",
       "Fold 4  2177.574422  2110.902385  2073.852274  2133.160595  2152.306169   \n",
       "Fold 5  2011.581932  2146.489143  2021.513671  2070.595118  2063.014469   \n",
       "\n",
       "            Árbol 6      Árbol 7      Árbol 8      Árbol 9     Árbol 10  \n",
       "Fold 1  2136.004816  2148.974875  2106.506652  2084.270393  2093.950091  \n",
       "Fold 2  2133.675918  2124.178383  2157.784681  2235.866811  2156.037095  \n",
       "Fold 3  2117.186019  2040.636353  2171.851754  2105.432417  2201.459381  \n",
       "Fold 4  2176.528696  2248.847727  2132.660164  2130.130672  2078.786383  \n",
       "Fold 5  2088.398531  2204.148698  2045.934532  2086.830968  2041.894361  "
      ]
     },
     "metadata": {},
     "output_type": "display_data"
    },
    {
     "name": "stdout",
     "output_type": "stream",
     "text": [
      " Resultados del modelo Bagging Manual (con promedio de predicciones)\n"
     ]
    },
    {
     "data": {
      "text/html": [
       "<div>\n",
       "<style scoped>\n",
       "    .dataframe tbody tr th:only-of-type {\n",
       "        vertical-align: middle;\n",
       "    }\n",
       "\n",
       "    .dataframe tbody tr th {\n",
       "        vertical-align: top;\n",
       "    }\n",
       "\n",
       "    .dataframe thead th {\n",
       "        text-align: right;\n",
       "    }\n",
       "</style>\n",
       "<table border=\"1\" class=\"dataframe\">\n",
       "  <thead>\n",
       "    <tr style=\"text-align: right;\">\n",
       "      <th></th>\n",
       "      <th>Fold</th>\n",
       "      <th>RMSE Bagging</th>\n",
       "      <th>MSE Bagging</th>\n",
       "      <th>MAE Bagging</th>\n",
       "    </tr>\n",
       "  </thead>\n",
       "  <tbody>\n",
       "    <tr>\n",
       "      <th>0</th>\n",
       "      <td>Fold 1</td>\n",
       "      <td>1789.296420</td>\n",
       "      <td>3.201582e+06</td>\n",
       "      <td>1343.559611</td>\n",
       "    </tr>\n",
       "    <tr>\n",
       "      <th>1</th>\n",
       "      <td>Fold 2</td>\n",
       "      <td>1791.452355</td>\n",
       "      <td>3.209302e+06</td>\n",
       "      <td>1350.677866</td>\n",
       "    </tr>\n",
       "    <tr>\n",
       "      <th>2</th>\n",
       "      <td>Fold 3</td>\n",
       "      <td>1797.044455</td>\n",
       "      <td>3.229369e+06</td>\n",
       "      <td>1327.796826</td>\n",
       "    </tr>\n",
       "    <tr>\n",
       "      <th>3</th>\n",
       "      <td>Fold 4</td>\n",
       "      <td>1774.168898</td>\n",
       "      <td>3.147675e+06</td>\n",
       "      <td>1328.671100</td>\n",
       "    </tr>\n",
       "    <tr>\n",
       "      <th>4</th>\n",
       "      <td>Fold 5</td>\n",
       "      <td>1728.825263</td>\n",
       "      <td>2.988837e+06</td>\n",
       "      <td>1290.166204</td>\n",
       "    </tr>\n",
       "    <tr>\n",
       "      <th>5</th>\n",
       "      <td>Promedio</td>\n",
       "      <td>1776.157478</td>\n",
       "      <td>3.155353e+06</td>\n",
       "      <td>1328.174321</td>\n",
       "    </tr>\n",
       "  </tbody>\n",
       "</table>\n",
       "</div>"
      ],
      "text/plain": [
       "       Fold  RMSE Bagging   MSE Bagging  MAE Bagging\n",
       "0    Fold 1   1789.296420  3.201582e+06  1343.559611\n",
       "1    Fold 2   1791.452355  3.209302e+06  1350.677866\n",
       "2    Fold 3   1797.044455  3.229369e+06  1327.796826\n",
       "3    Fold 4   1774.168898  3.147675e+06  1328.671100\n",
       "4    Fold 5   1728.825263  2.988837e+06  1290.166204\n",
       "5  Promedio   1776.157478  3.155353e+06  1328.174321"
      ]
     },
     "metadata": {},
     "output_type": "display_data"
    }
   ],
   "source": [
    "# Celda 2\n",
    "# Validación cruzada manual 5-fold\n",
    "kf = KFold(n_splits=5, shuffle=True, random_state=42)\n",
    "\n",
    "# ñistas para almacenar datos\n",
    "rmse_folds = []\n",
    "mse_folds = []\n",
    "mae_folds = []\n",
    "errores_por_arbol = []\n",
    "\n",
    "# condicion de validación cruzada\n",
    "for fold, (train_index, val_index) in enumerate(kf.split(X_train)):\n",
    "    X_tr, X_val = X_train.iloc[train_index], X_train.iloc[val_index]\n",
    "    y_tr, y_val = y_train.iloc[train_index], y_train.iloc[val_index]\n",
    "\n",
    "    # Cantidad de arboles 10 y union de entrenamiento para el bootstrap\n",
    "    train_fold = pd.concat([y_tr, X_tr], axis=1)\n",
    "    n_samples = train_fold.shape[0]\n",
    "    n_B = 10\n",
    "    np.random.seed(0)\n",
    "    samples = [np.random.choice(a=n_samples, size=n_samples, replace=True) for _ in range(n_B)]\n",
    "\n",
    "    # Crear modelo y predicciones\n",
    "    treereg = DecisionTreeRegressor(max_depth=None, random_state=0)\n",
    "    y_pred_arboles = pd.DataFrame(index=X_val.index, columns=[f'Árbol {i+1}' for i in range(n_B)])\n",
    "    errores_arbol = []\n",
    "\n",
    "    # Generar modelo y almacenar resultados\n",
    "    for i, sample in enumerate(samples):\n",
    "        X_boot = train_fold.iloc[sample, 1:]\n",
    "        y_boot = train_fold.iloc[sample, 0]\n",
    "        treereg.fit(X_boot, y_boot)\n",
    "        pred = treereg.predict(X_val)\n",
    "        y_pred_arboles.iloc[:, i] = pred\n",
    "\n",
    "        rmse_i = np.sqrt(mean_squared_error(y_val, pred))\n",
    "        errores_arbol.append(rmse_i)\n",
    "\n",
    "    errores_por_arbol.append(errores_arbol)\n",
    "\n",
    "    # Promediar predicciones Bagging\n",
    "    y_pred_prom = y_pred_arboles.mean(axis=1)\n",
    "\n",
    "    # Calcular métricas del modelo\n",
    "    rmse = np.sqrt(mean_squared_error(y_val, y_pred_prom))\n",
    "    mse = mean_squared_error(y_val, y_pred_prom)\n",
    "    mae = mean_absolute_error(y_val, y_pred_prom)\n",
    "\n",
    "    rmse_folds.append(rmse)\n",
    "    mse_folds.append(mse)\n",
    "    mae_folds.append(mae)\n",
    "\n",
    "# Crear tabla de errores del modelo Bagging\n",
    "cv_manual_results = pd.DataFrame({\n",
    "    'Fold': [f'Fold {i+1}' for i in range(5)],\n",
    "    'RMSE Bagging': rmse_folds,\n",
    "    'MSE Bagging': mse_folds,\n",
    "    'MAE Bagging': mae_folds\n",
    "})\n",
    "cv_manual_results.loc[len(cv_manual_results.index)] = [\n",
    "    'Promedio',\n",
    "    np.mean(rmse_folds),\n",
    "    np.mean(mse_folds),\n",
    "    np.mean(mae_folds)\n",
    "]\n",
    "\n",
    "# Crear tabla de errores individuales de los árboles\n",
    "df_errores_arboles = pd.DataFrame(errores_por_arbol,\n",
    "                                  columns=[f'Árbol {i+1}' for i in range(n_B)],\n",
    "                                  index=[f'Fold {i+1}' for i in range(5)])\n",
    "\n",
    "# Generar resultados\n",
    "print(\"Errores individuales de los 10 árboles por fold (RMSE)\")\n",
    "display(df_errores_arboles)\n",
    "\n",
    "print(\" Resultados del modelo Bagging Manual (con promedio de predicciones)\")\n",
    "display(cv_manual_results)"
   ]
  },
  {
   "cell_type": "markdown",
   "metadata": {},
   "source": [
    "Cada arbol de manera individual tienen un RMSE superior a 2000, sin embargo al promediar las predicciones de los 10 arboles el error disminuye significarivamente en los folds, viendo que el promerdio del RMSE del modelo bagging fue de 1776, mucho menor que los errores que se generan de manera individual con los arboles. esto ya que cada arbol por separado puede cometer diferentes errores y la combinacion de estos suaviza el error, mostrando que el modelo final sea más preciso y estable."
   ]
  },
  {
   "cell_type": "markdown",
   "metadata": {},
   "source": [
    "### Punto 3 - Bagging con librería\n",
    "\n",
    "En la celda 3, con la librería sklearn, entrenen un modelo bagging con 10 árboles de regresión y el parámetro `max_features` igual a `log(n_features)` y comenten sobre el desempeño del modelo."
   ]
  },
  {
   "cell_type": "code",
   "execution_count": 7,
   "metadata": {},
   "outputs": [
    {
     "data": {
      "text/html": [
       "<div>\n",
       "<style scoped>\n",
       "    .dataframe tbody tr th:only-of-type {\n",
       "        vertical-align: middle;\n",
       "    }\n",
       "\n",
       "    .dataframe tbody tr th {\n",
       "        vertical-align: top;\n",
       "    }\n",
       "\n",
       "    .dataframe thead th {\n",
       "        text-align: right;\n",
       "    }\n",
       "</style>\n",
       "<table border=\"1\" class=\"dataframe\">\n",
       "  <thead>\n",
       "    <tr style=\"text-align: right;\">\n",
       "      <th></th>\n",
       "      <th>Fold</th>\n",
       "      <th>RMSE</th>\n",
       "      <th>MSE</th>\n",
       "      <th>MAE</th>\n",
       "    </tr>\n",
       "  </thead>\n",
       "  <tbody>\n",
       "    <tr>\n",
       "      <th>0</th>\n",
       "      <td>Fold 1</td>\n",
       "      <td>2411.972690</td>\n",
       "      <td>5.817612e+06</td>\n",
       "      <td>1843.816271</td>\n",
       "    </tr>\n",
       "    <tr>\n",
       "      <th>1</th>\n",
       "      <td>Fold 2</td>\n",
       "      <td>2354.223869</td>\n",
       "      <td>5.542370e+06</td>\n",
       "      <td>1793.655693</td>\n",
       "    </tr>\n",
       "    <tr>\n",
       "      <th>2</th>\n",
       "      <td>Fold 3</td>\n",
       "      <td>2375.286064</td>\n",
       "      <td>5.641984e+06</td>\n",
       "      <td>1844.521604</td>\n",
       "    </tr>\n",
       "    <tr>\n",
       "      <th>3</th>\n",
       "      <td>Fold 4</td>\n",
       "      <td>2352.082145</td>\n",
       "      <td>5.532290e+06</td>\n",
       "      <td>1856.614848</td>\n",
       "    </tr>\n",
       "    <tr>\n",
       "      <th>4</th>\n",
       "      <td>Fold 5</td>\n",
       "      <td>2334.258113</td>\n",
       "      <td>5.448761e+06</td>\n",
       "      <td>1793.737522</td>\n",
       "    </tr>\n",
       "    <tr>\n",
       "      <th>5</th>\n",
       "      <td>Promedio</td>\n",
       "      <td>2365.564576</td>\n",
       "      <td>5.596604e+06</td>\n",
       "      <td>1826.469188</td>\n",
       "    </tr>\n",
       "  </tbody>\n",
       "</table>\n",
       "</div>"
      ],
      "text/plain": [
       "       Fold         RMSE           MSE          MAE\n",
       "0    Fold 1  2411.972690  5.817612e+06  1843.816271\n",
       "1    Fold 2  2354.223869  5.542370e+06  1793.655693\n",
       "2    Fold 3  2375.286064  5.641984e+06  1844.521604\n",
       "3    Fold 4  2352.082145  5.532290e+06  1856.614848\n",
       "4    Fold 5  2334.258113  5.448761e+06  1793.737522\n",
       "5  Promedio  2365.564576  5.596604e+06  1826.469188"
      ]
     },
     "metadata": {},
     "output_type": "display_data"
    }
   ],
   "source": [
    "# Celda 3\n",
    "# modelo Bagging con condiciones del max_features\n",
    "bagging_model = BaggingRegressor(\n",
    "    estimator=DecisionTreeRegressor(),\n",
    "    n_estimators=10,\n",
    "    max_features=int(np.log(X_train.shape[1])),\n",
    "    bootstrap=True,\n",
    "    oob_score=True,\n",
    "    random_state=0\n",
    ")\n",
    "\n",
    "# Validacion cruzada sobre train\n",
    "rmse_scores = cross_val_score(bagging_model, X_train, y_train, cv=5,\n",
    "                              scoring='neg_root_mean_squared_error')\n",
    "mse_scores = cross_val_score(bagging_model, X_train, y_train, cv=5,\n",
    "                             scoring='neg_mean_squared_error')\n",
    "mae_scores = cross_val_score(bagging_model, X_train, y_train, cv=5,\n",
    "                             scoring='neg_mean_absolute_error')\n",
    "\n",
    "# Convertir errorres a valores positivos y generar tabla con cada uno de los resultados\n",
    "rmse_scores = -rmse_scores\n",
    "mse_scores = -mse_scores\n",
    "mae_scores = -mae_scores\n",
    "\n",
    "cv_results = pd.DataFrame({\n",
    "    'Fold': [f'Fold {i+1}' for i in range(5)],\n",
    "    'RMSE': rmse_scores,\n",
    "    'MSE': mse_scores,\n",
    "    'MAE': mae_scores\n",
    "})\n",
    "\n",
    "# calculo de los promedios y resultados\n",
    "cv_results.loc[len(cv_results.index)] = [\n",
    "    'Promedio',\n",
    "    rmse_scores.mean(),\n",
    "    mse_scores.mean(),\n",
    "    mae_scores.mean()\n",
    "]\n",
    "\n",
    "display(cv_results)"
   ]
  },
  {
   "cell_type": "markdown",
   "metadata": {},
   "source": [
    "El modelo de bagging de libreria en su implementación mostro un desempeño inferior(2365) al modelo de bagging manual(1776), lo que nos da a concluir que las deciciones que se tomen al momento de ajustar parametros tienen un impacto importante en este caso el max_features, donde al ajustar estos valores de manera adecuada pueden mejorar el desempeño."
   ]
  },
  {
   "cell_type": "markdown",
   "metadata": {},
   "source": [
    "### Punto 4 - Random forest con librería\n",
    "\n",
    "En la celda 4, usando la librería sklearn entrenen un modelo de Randon Forest para regresión  y comenten sobre el desempeño del modelo."
   ]
  },
  {
   "cell_type": "code",
   "execution_count": 8,
   "metadata": {},
   "outputs": [
    {
     "data": {
      "text/html": [
       "<style>#sk-container-id-1 {\n",
       "  /* Definition of color scheme common for light and dark mode */\n",
       "  --sklearn-color-text: #000;\n",
       "  --sklearn-color-text-muted: #666;\n",
       "  --sklearn-color-line: gray;\n",
       "  /* Definition of color scheme for unfitted estimators */\n",
       "  --sklearn-color-unfitted-level-0: #fff5e6;\n",
       "  --sklearn-color-unfitted-level-1: #f6e4d2;\n",
       "  --sklearn-color-unfitted-level-2: #ffe0b3;\n",
       "  --sklearn-color-unfitted-level-3: chocolate;\n",
       "  /* Definition of color scheme for fitted estimators */\n",
       "  --sklearn-color-fitted-level-0: #f0f8ff;\n",
       "  --sklearn-color-fitted-level-1: #d4ebff;\n",
       "  --sklearn-color-fitted-level-2: #b3dbfd;\n",
       "  --sklearn-color-fitted-level-3: cornflowerblue;\n",
       "\n",
       "  /* Specific color for light theme */\n",
       "  --sklearn-color-text-on-default-background: var(--sg-text-color, var(--theme-code-foreground, var(--jp-content-font-color1, black)));\n",
       "  --sklearn-color-background: var(--sg-background-color, var(--theme-background, var(--jp-layout-color0, white)));\n",
       "  --sklearn-color-border-box: var(--sg-text-color, var(--theme-code-foreground, var(--jp-content-font-color1, black)));\n",
       "  --sklearn-color-icon: #696969;\n",
       "\n",
       "  @media (prefers-color-scheme: dark) {\n",
       "    /* Redefinition of color scheme for dark theme */\n",
       "    --sklearn-color-text-on-default-background: var(--sg-text-color, var(--theme-code-foreground, var(--jp-content-font-color1, white)));\n",
       "    --sklearn-color-background: var(--sg-background-color, var(--theme-background, var(--jp-layout-color0, #111)));\n",
       "    --sklearn-color-border-box: var(--sg-text-color, var(--theme-code-foreground, var(--jp-content-font-color1, white)));\n",
       "    --sklearn-color-icon: #878787;\n",
       "  }\n",
       "}\n",
       "\n",
       "#sk-container-id-1 {\n",
       "  color: var(--sklearn-color-text);\n",
       "}\n",
       "\n",
       "#sk-container-id-1 pre {\n",
       "  padding: 0;\n",
       "}\n",
       "\n",
       "#sk-container-id-1 input.sk-hidden--visually {\n",
       "  border: 0;\n",
       "  clip: rect(1px 1px 1px 1px);\n",
       "  clip: rect(1px, 1px, 1px, 1px);\n",
       "  height: 1px;\n",
       "  margin: -1px;\n",
       "  overflow: hidden;\n",
       "  padding: 0;\n",
       "  position: absolute;\n",
       "  width: 1px;\n",
       "}\n",
       "\n",
       "#sk-container-id-1 div.sk-dashed-wrapped {\n",
       "  border: 1px dashed var(--sklearn-color-line);\n",
       "  margin: 0 0.4em 0.5em 0.4em;\n",
       "  box-sizing: border-box;\n",
       "  padding-bottom: 0.4em;\n",
       "  background-color: var(--sklearn-color-background);\n",
       "}\n",
       "\n",
       "#sk-container-id-1 div.sk-container {\n",
       "  /* jupyter's `normalize.less` sets `[hidden] { display: none; }`\n",
       "     but bootstrap.min.css set `[hidden] { display: none !important; }`\n",
       "     so we also need the `!important` here to be able to override the\n",
       "     default hidden behavior on the sphinx rendered scikit-learn.org.\n",
       "     See: https://github.com/scikit-learn/scikit-learn/issues/21755 */\n",
       "  display: inline-block !important;\n",
       "  position: relative;\n",
       "}\n",
       "\n",
       "#sk-container-id-1 div.sk-text-repr-fallback {\n",
       "  display: none;\n",
       "}\n",
       "\n",
       "div.sk-parallel-item,\n",
       "div.sk-serial,\n",
       "div.sk-item {\n",
       "  /* draw centered vertical line to link estimators */\n",
       "  background-image: linear-gradient(var(--sklearn-color-text-on-default-background), var(--sklearn-color-text-on-default-background));\n",
       "  background-size: 2px 100%;\n",
       "  background-repeat: no-repeat;\n",
       "  background-position: center center;\n",
       "}\n",
       "\n",
       "/* Parallel-specific style estimator block */\n",
       "\n",
       "#sk-container-id-1 div.sk-parallel-item::after {\n",
       "  content: \"\";\n",
       "  width: 100%;\n",
       "  border-bottom: 2px solid var(--sklearn-color-text-on-default-background);\n",
       "  flex-grow: 1;\n",
       "}\n",
       "\n",
       "#sk-container-id-1 div.sk-parallel {\n",
       "  display: flex;\n",
       "  align-items: stretch;\n",
       "  justify-content: center;\n",
       "  background-color: var(--sklearn-color-background);\n",
       "  position: relative;\n",
       "}\n",
       "\n",
       "#sk-container-id-1 div.sk-parallel-item {\n",
       "  display: flex;\n",
       "  flex-direction: column;\n",
       "}\n",
       "\n",
       "#sk-container-id-1 div.sk-parallel-item:first-child::after {\n",
       "  align-self: flex-end;\n",
       "  width: 50%;\n",
       "}\n",
       "\n",
       "#sk-container-id-1 div.sk-parallel-item:last-child::after {\n",
       "  align-self: flex-start;\n",
       "  width: 50%;\n",
       "}\n",
       "\n",
       "#sk-container-id-1 div.sk-parallel-item:only-child::after {\n",
       "  width: 0;\n",
       "}\n",
       "\n",
       "/* Serial-specific style estimator block */\n",
       "\n",
       "#sk-container-id-1 div.sk-serial {\n",
       "  display: flex;\n",
       "  flex-direction: column;\n",
       "  align-items: center;\n",
       "  background-color: var(--sklearn-color-background);\n",
       "  padding-right: 1em;\n",
       "  padding-left: 1em;\n",
       "}\n",
       "\n",
       "\n",
       "/* Toggleable style: style used for estimator/Pipeline/ColumnTransformer box that is\n",
       "clickable and can be expanded/collapsed.\n",
       "- Pipeline and ColumnTransformer use this feature and define the default style\n",
       "- Estimators will overwrite some part of the style using the `sk-estimator` class\n",
       "*/\n",
       "\n",
       "/* Pipeline and ColumnTransformer style (default) */\n",
       "\n",
       "#sk-container-id-1 div.sk-toggleable {\n",
       "  /* Default theme specific background. It is overwritten whether we have a\n",
       "  specific estimator or a Pipeline/ColumnTransformer */\n",
       "  background-color: var(--sklearn-color-background);\n",
       "}\n",
       "\n",
       "/* Toggleable label */\n",
       "#sk-container-id-1 label.sk-toggleable__label {\n",
       "  cursor: pointer;\n",
       "  display: flex;\n",
       "  width: 100%;\n",
       "  margin-bottom: 0;\n",
       "  padding: 0.5em;\n",
       "  box-sizing: border-box;\n",
       "  text-align: center;\n",
       "  align-items: start;\n",
       "  justify-content: space-between;\n",
       "  gap: 0.5em;\n",
       "}\n",
       "\n",
       "#sk-container-id-1 label.sk-toggleable__label .caption {\n",
       "  font-size: 0.6rem;\n",
       "  font-weight: lighter;\n",
       "  color: var(--sklearn-color-text-muted);\n",
       "}\n",
       "\n",
       "#sk-container-id-1 label.sk-toggleable__label-arrow:before {\n",
       "  /* Arrow on the left of the label */\n",
       "  content: \"▸\";\n",
       "  float: left;\n",
       "  margin-right: 0.25em;\n",
       "  color: var(--sklearn-color-icon);\n",
       "}\n",
       "\n",
       "#sk-container-id-1 label.sk-toggleable__label-arrow:hover:before {\n",
       "  color: var(--sklearn-color-text);\n",
       "}\n",
       "\n",
       "/* Toggleable content - dropdown */\n",
       "\n",
       "#sk-container-id-1 div.sk-toggleable__content {\n",
       "  max-height: 0;\n",
       "  max-width: 0;\n",
       "  overflow: hidden;\n",
       "  text-align: left;\n",
       "  /* unfitted */\n",
       "  background-color: var(--sklearn-color-unfitted-level-0);\n",
       "}\n",
       "\n",
       "#sk-container-id-1 div.sk-toggleable__content.fitted {\n",
       "  /* fitted */\n",
       "  background-color: var(--sklearn-color-fitted-level-0);\n",
       "}\n",
       "\n",
       "#sk-container-id-1 div.sk-toggleable__content pre {\n",
       "  margin: 0.2em;\n",
       "  border-radius: 0.25em;\n",
       "  color: var(--sklearn-color-text);\n",
       "  /* unfitted */\n",
       "  background-color: var(--sklearn-color-unfitted-level-0);\n",
       "}\n",
       "\n",
       "#sk-container-id-1 div.sk-toggleable__content.fitted pre {\n",
       "  /* unfitted */\n",
       "  background-color: var(--sklearn-color-fitted-level-0);\n",
       "}\n",
       "\n",
       "#sk-container-id-1 input.sk-toggleable__control:checked~div.sk-toggleable__content {\n",
       "  /* Expand drop-down */\n",
       "  max-height: 200px;\n",
       "  max-width: 100%;\n",
       "  overflow: auto;\n",
       "}\n",
       "\n",
       "#sk-container-id-1 input.sk-toggleable__control:checked~label.sk-toggleable__label-arrow:before {\n",
       "  content: \"▾\";\n",
       "}\n",
       "\n",
       "/* Pipeline/ColumnTransformer-specific style */\n",
       "\n",
       "#sk-container-id-1 div.sk-label input.sk-toggleable__control:checked~label.sk-toggleable__label {\n",
       "  color: var(--sklearn-color-text);\n",
       "  background-color: var(--sklearn-color-unfitted-level-2);\n",
       "}\n",
       "\n",
       "#sk-container-id-1 div.sk-label.fitted input.sk-toggleable__control:checked~label.sk-toggleable__label {\n",
       "  background-color: var(--sklearn-color-fitted-level-2);\n",
       "}\n",
       "\n",
       "/* Estimator-specific style */\n",
       "\n",
       "/* Colorize estimator box */\n",
       "#sk-container-id-1 div.sk-estimator input.sk-toggleable__control:checked~label.sk-toggleable__label {\n",
       "  /* unfitted */\n",
       "  background-color: var(--sklearn-color-unfitted-level-2);\n",
       "}\n",
       "\n",
       "#sk-container-id-1 div.sk-estimator.fitted input.sk-toggleable__control:checked~label.sk-toggleable__label {\n",
       "  /* fitted */\n",
       "  background-color: var(--sklearn-color-fitted-level-2);\n",
       "}\n",
       "\n",
       "#sk-container-id-1 div.sk-label label.sk-toggleable__label,\n",
       "#sk-container-id-1 div.sk-label label {\n",
       "  /* The background is the default theme color */\n",
       "  color: var(--sklearn-color-text-on-default-background);\n",
       "}\n",
       "\n",
       "/* On hover, darken the color of the background */\n",
       "#sk-container-id-1 div.sk-label:hover label.sk-toggleable__label {\n",
       "  color: var(--sklearn-color-text);\n",
       "  background-color: var(--sklearn-color-unfitted-level-2);\n",
       "}\n",
       "\n",
       "/* Label box, darken color on hover, fitted */\n",
       "#sk-container-id-1 div.sk-label.fitted:hover label.sk-toggleable__label.fitted {\n",
       "  color: var(--sklearn-color-text);\n",
       "  background-color: var(--sklearn-color-fitted-level-2);\n",
       "}\n",
       "\n",
       "/* Estimator label */\n",
       "\n",
       "#sk-container-id-1 div.sk-label label {\n",
       "  font-family: monospace;\n",
       "  font-weight: bold;\n",
       "  display: inline-block;\n",
       "  line-height: 1.2em;\n",
       "}\n",
       "\n",
       "#sk-container-id-1 div.sk-label-container {\n",
       "  text-align: center;\n",
       "}\n",
       "\n",
       "/* Estimator-specific */\n",
       "#sk-container-id-1 div.sk-estimator {\n",
       "  font-family: monospace;\n",
       "  border: 1px dotted var(--sklearn-color-border-box);\n",
       "  border-radius: 0.25em;\n",
       "  box-sizing: border-box;\n",
       "  margin-bottom: 0.5em;\n",
       "  /* unfitted */\n",
       "  background-color: var(--sklearn-color-unfitted-level-0);\n",
       "}\n",
       "\n",
       "#sk-container-id-1 div.sk-estimator.fitted {\n",
       "  /* fitted */\n",
       "  background-color: var(--sklearn-color-fitted-level-0);\n",
       "}\n",
       "\n",
       "/* on hover */\n",
       "#sk-container-id-1 div.sk-estimator:hover {\n",
       "  /* unfitted */\n",
       "  background-color: var(--sklearn-color-unfitted-level-2);\n",
       "}\n",
       "\n",
       "#sk-container-id-1 div.sk-estimator.fitted:hover {\n",
       "  /* fitted */\n",
       "  background-color: var(--sklearn-color-fitted-level-2);\n",
       "}\n",
       "\n",
       "/* Specification for estimator info (e.g. \"i\" and \"?\") */\n",
       "\n",
       "/* Common style for \"i\" and \"?\" */\n",
       "\n",
       ".sk-estimator-doc-link,\n",
       "a:link.sk-estimator-doc-link,\n",
       "a:visited.sk-estimator-doc-link {\n",
       "  float: right;\n",
       "  font-size: smaller;\n",
       "  line-height: 1em;\n",
       "  font-family: monospace;\n",
       "  background-color: var(--sklearn-color-background);\n",
       "  border-radius: 1em;\n",
       "  height: 1em;\n",
       "  width: 1em;\n",
       "  text-decoration: none !important;\n",
       "  margin-left: 0.5em;\n",
       "  text-align: center;\n",
       "  /* unfitted */\n",
       "  border: var(--sklearn-color-unfitted-level-1) 1pt solid;\n",
       "  color: var(--sklearn-color-unfitted-level-1);\n",
       "}\n",
       "\n",
       ".sk-estimator-doc-link.fitted,\n",
       "a:link.sk-estimator-doc-link.fitted,\n",
       "a:visited.sk-estimator-doc-link.fitted {\n",
       "  /* fitted */\n",
       "  border: var(--sklearn-color-fitted-level-1) 1pt solid;\n",
       "  color: var(--sklearn-color-fitted-level-1);\n",
       "}\n",
       "\n",
       "/* On hover */\n",
       "div.sk-estimator:hover .sk-estimator-doc-link:hover,\n",
       ".sk-estimator-doc-link:hover,\n",
       "div.sk-label-container:hover .sk-estimator-doc-link:hover,\n",
       ".sk-estimator-doc-link:hover {\n",
       "  /* unfitted */\n",
       "  background-color: var(--sklearn-color-unfitted-level-3);\n",
       "  color: var(--sklearn-color-background);\n",
       "  text-decoration: none;\n",
       "}\n",
       "\n",
       "div.sk-estimator.fitted:hover .sk-estimator-doc-link.fitted:hover,\n",
       ".sk-estimator-doc-link.fitted:hover,\n",
       "div.sk-label-container:hover .sk-estimator-doc-link.fitted:hover,\n",
       ".sk-estimator-doc-link.fitted:hover {\n",
       "  /* fitted */\n",
       "  background-color: var(--sklearn-color-fitted-level-3);\n",
       "  color: var(--sklearn-color-background);\n",
       "  text-decoration: none;\n",
       "}\n",
       "\n",
       "/* Span, style for the box shown on hovering the info icon */\n",
       ".sk-estimator-doc-link span {\n",
       "  display: none;\n",
       "  z-index: 9999;\n",
       "  position: relative;\n",
       "  font-weight: normal;\n",
       "  right: .2ex;\n",
       "  padding: .5ex;\n",
       "  margin: .5ex;\n",
       "  width: min-content;\n",
       "  min-width: 20ex;\n",
       "  max-width: 50ex;\n",
       "  color: var(--sklearn-color-text);\n",
       "  box-shadow: 2pt 2pt 4pt #999;\n",
       "  /* unfitted */\n",
       "  background: var(--sklearn-color-unfitted-level-0);\n",
       "  border: .5pt solid var(--sklearn-color-unfitted-level-3);\n",
       "}\n",
       "\n",
       ".sk-estimator-doc-link.fitted span {\n",
       "  /* fitted */\n",
       "  background: var(--sklearn-color-fitted-level-0);\n",
       "  border: var(--sklearn-color-fitted-level-3);\n",
       "}\n",
       "\n",
       ".sk-estimator-doc-link:hover span {\n",
       "  display: block;\n",
       "}\n",
       "\n",
       "/* \"?\"-specific style due to the `<a>` HTML tag */\n",
       "\n",
       "#sk-container-id-1 a.estimator_doc_link {\n",
       "  float: right;\n",
       "  font-size: 1rem;\n",
       "  line-height: 1em;\n",
       "  font-family: monospace;\n",
       "  background-color: var(--sklearn-color-background);\n",
       "  border-radius: 1rem;\n",
       "  height: 1rem;\n",
       "  width: 1rem;\n",
       "  text-decoration: none;\n",
       "  /* unfitted */\n",
       "  color: var(--sklearn-color-unfitted-level-1);\n",
       "  border: var(--sklearn-color-unfitted-level-1) 1pt solid;\n",
       "}\n",
       "\n",
       "#sk-container-id-1 a.estimator_doc_link.fitted {\n",
       "  /* fitted */\n",
       "  border: var(--sklearn-color-fitted-level-1) 1pt solid;\n",
       "  color: var(--sklearn-color-fitted-level-1);\n",
       "}\n",
       "\n",
       "/* On hover */\n",
       "#sk-container-id-1 a.estimator_doc_link:hover {\n",
       "  /* unfitted */\n",
       "  background-color: var(--sklearn-color-unfitted-level-3);\n",
       "  color: var(--sklearn-color-background);\n",
       "  text-decoration: none;\n",
       "}\n",
       "\n",
       "#sk-container-id-1 a.estimator_doc_link.fitted:hover {\n",
       "  /* fitted */\n",
       "  background-color: var(--sklearn-color-fitted-level-3);\n",
       "}\n",
       "</style><div id=\"sk-container-id-1\" class=\"sk-top-container\"><div class=\"sk-text-repr-fallback\"><pre>RandomForestRegressor()</pre><b>In a Jupyter environment, please rerun this cell to show the HTML representation or trust the notebook. <br />On GitHub, the HTML representation is unable to render, please try loading this page with nbviewer.org.</b></div><div class=\"sk-container\" hidden><div class=\"sk-item\"><div class=\"sk-estimator  sk-toggleable\"><input class=\"sk-toggleable__control sk-hidden--visually\" id=\"sk-estimator-id-1\" type=\"checkbox\" checked><label for=\"sk-estimator-id-1\" class=\"sk-toggleable__label  sk-toggleable__label-arrow\"><div><div>RandomForestRegressor</div></div><div><a class=\"sk-estimator-doc-link \" rel=\"noreferrer\" target=\"_blank\" href=\"https://scikit-learn.org/1.6/modules/generated/sklearn.ensemble.RandomForestRegressor.html\">?<span>Documentation for RandomForestRegressor</span></a><span class=\"sk-estimator-doc-link \">i<span>Not fitted</span></span></div></label><div class=\"sk-toggleable__content \"><pre>RandomForestRegressor()</pre></div> </div></div></div></div>"
      ],
      "text/plain": [
       "RandomForestRegressor()"
      ]
     },
     "execution_count": 8,
     "metadata": {},
     "output_type": "execute_result"
    }
   ],
   "source": [
    "# Generamos el modelo Random Forest para regresión sin calibrar\n",
    "reg = RandomForestRegressor(random_state=0)\n",
    "reg = RandomForestRegressor()\n",
    "reg"
   ]
  },
  {
   "cell_type": "code",
   "execution_count": 9,
   "metadata": {},
   "outputs": [],
   "source": [
    "# Semilla para todos los cross-validation\n",
    "cv = KFold(n_splits=5, shuffle=True, random_state=42)"
   ]
  },
  {
   "cell_type": "code",
   "execution_count": 10,
   "metadata": {},
   "outputs": [
    {
     "data": {
      "text/plain": [
       "count       5.000000\n",
       "mean     1739.993905\n",
       "std        35.994023\n",
       "min      1683.271748\n",
       "25%      1734.333324\n",
       "50%      1740.576373\n",
       "75%      1767.513406\n",
       "max      1774.274675\n",
       "dtype: float64"
      ]
     },
     "execution_count": 10,
     "metadata": {},
     "output_type": "execute_result"
    }
   ],
   "source": [
    "# Realizamos análisis estadístico del modelo sin parametrizar sobre el conjunto de train\n",
    "# Lo multiplicamos por -1 para que el análisis salga en positivo\n",
    "pd.Series(-cross_val_score(reg, X_train, y_train, cv=cv, scoring='neg_root_mean_squared_error')).describe()"
   ]
  },
  {
   "cell_type": "code",
   "execution_count": 11,
   "metadata": {},
   "outputs": [
    {
     "data": {
      "text/html": [
       "<style>#sk-container-id-2 {\n",
       "  /* Definition of color scheme common for light and dark mode */\n",
       "  --sklearn-color-text: #000;\n",
       "  --sklearn-color-text-muted: #666;\n",
       "  --sklearn-color-line: gray;\n",
       "  /* Definition of color scheme for unfitted estimators */\n",
       "  --sklearn-color-unfitted-level-0: #fff5e6;\n",
       "  --sklearn-color-unfitted-level-1: #f6e4d2;\n",
       "  --sklearn-color-unfitted-level-2: #ffe0b3;\n",
       "  --sklearn-color-unfitted-level-3: chocolate;\n",
       "  /* Definition of color scheme for fitted estimators */\n",
       "  --sklearn-color-fitted-level-0: #f0f8ff;\n",
       "  --sklearn-color-fitted-level-1: #d4ebff;\n",
       "  --sklearn-color-fitted-level-2: #b3dbfd;\n",
       "  --sklearn-color-fitted-level-3: cornflowerblue;\n",
       "\n",
       "  /* Specific color for light theme */\n",
       "  --sklearn-color-text-on-default-background: var(--sg-text-color, var(--theme-code-foreground, var(--jp-content-font-color1, black)));\n",
       "  --sklearn-color-background: var(--sg-background-color, var(--theme-background, var(--jp-layout-color0, white)));\n",
       "  --sklearn-color-border-box: var(--sg-text-color, var(--theme-code-foreground, var(--jp-content-font-color1, black)));\n",
       "  --sklearn-color-icon: #696969;\n",
       "\n",
       "  @media (prefers-color-scheme: dark) {\n",
       "    /* Redefinition of color scheme for dark theme */\n",
       "    --sklearn-color-text-on-default-background: var(--sg-text-color, var(--theme-code-foreground, var(--jp-content-font-color1, white)));\n",
       "    --sklearn-color-background: var(--sg-background-color, var(--theme-background, var(--jp-layout-color0, #111)));\n",
       "    --sklearn-color-border-box: var(--sg-text-color, var(--theme-code-foreground, var(--jp-content-font-color1, white)));\n",
       "    --sklearn-color-icon: #878787;\n",
       "  }\n",
       "}\n",
       "\n",
       "#sk-container-id-2 {\n",
       "  color: var(--sklearn-color-text);\n",
       "}\n",
       "\n",
       "#sk-container-id-2 pre {\n",
       "  padding: 0;\n",
       "}\n",
       "\n",
       "#sk-container-id-2 input.sk-hidden--visually {\n",
       "  border: 0;\n",
       "  clip: rect(1px 1px 1px 1px);\n",
       "  clip: rect(1px, 1px, 1px, 1px);\n",
       "  height: 1px;\n",
       "  margin: -1px;\n",
       "  overflow: hidden;\n",
       "  padding: 0;\n",
       "  position: absolute;\n",
       "  width: 1px;\n",
       "}\n",
       "\n",
       "#sk-container-id-2 div.sk-dashed-wrapped {\n",
       "  border: 1px dashed var(--sklearn-color-line);\n",
       "  margin: 0 0.4em 0.5em 0.4em;\n",
       "  box-sizing: border-box;\n",
       "  padding-bottom: 0.4em;\n",
       "  background-color: var(--sklearn-color-background);\n",
       "}\n",
       "\n",
       "#sk-container-id-2 div.sk-container {\n",
       "  /* jupyter's `normalize.less` sets `[hidden] { display: none; }`\n",
       "     but bootstrap.min.css set `[hidden] { display: none !important; }`\n",
       "     so we also need the `!important` here to be able to override the\n",
       "     default hidden behavior on the sphinx rendered scikit-learn.org.\n",
       "     See: https://github.com/scikit-learn/scikit-learn/issues/21755 */\n",
       "  display: inline-block !important;\n",
       "  position: relative;\n",
       "}\n",
       "\n",
       "#sk-container-id-2 div.sk-text-repr-fallback {\n",
       "  display: none;\n",
       "}\n",
       "\n",
       "div.sk-parallel-item,\n",
       "div.sk-serial,\n",
       "div.sk-item {\n",
       "  /* draw centered vertical line to link estimators */\n",
       "  background-image: linear-gradient(var(--sklearn-color-text-on-default-background), var(--sklearn-color-text-on-default-background));\n",
       "  background-size: 2px 100%;\n",
       "  background-repeat: no-repeat;\n",
       "  background-position: center center;\n",
       "}\n",
       "\n",
       "/* Parallel-specific style estimator block */\n",
       "\n",
       "#sk-container-id-2 div.sk-parallel-item::after {\n",
       "  content: \"\";\n",
       "  width: 100%;\n",
       "  border-bottom: 2px solid var(--sklearn-color-text-on-default-background);\n",
       "  flex-grow: 1;\n",
       "}\n",
       "\n",
       "#sk-container-id-2 div.sk-parallel {\n",
       "  display: flex;\n",
       "  align-items: stretch;\n",
       "  justify-content: center;\n",
       "  background-color: var(--sklearn-color-background);\n",
       "  position: relative;\n",
       "}\n",
       "\n",
       "#sk-container-id-2 div.sk-parallel-item {\n",
       "  display: flex;\n",
       "  flex-direction: column;\n",
       "}\n",
       "\n",
       "#sk-container-id-2 div.sk-parallel-item:first-child::after {\n",
       "  align-self: flex-end;\n",
       "  width: 50%;\n",
       "}\n",
       "\n",
       "#sk-container-id-2 div.sk-parallel-item:last-child::after {\n",
       "  align-self: flex-start;\n",
       "  width: 50%;\n",
       "}\n",
       "\n",
       "#sk-container-id-2 div.sk-parallel-item:only-child::after {\n",
       "  width: 0;\n",
       "}\n",
       "\n",
       "/* Serial-specific style estimator block */\n",
       "\n",
       "#sk-container-id-2 div.sk-serial {\n",
       "  display: flex;\n",
       "  flex-direction: column;\n",
       "  align-items: center;\n",
       "  background-color: var(--sklearn-color-background);\n",
       "  padding-right: 1em;\n",
       "  padding-left: 1em;\n",
       "}\n",
       "\n",
       "\n",
       "/* Toggleable style: style used for estimator/Pipeline/ColumnTransformer box that is\n",
       "clickable and can be expanded/collapsed.\n",
       "- Pipeline and ColumnTransformer use this feature and define the default style\n",
       "- Estimators will overwrite some part of the style using the `sk-estimator` class\n",
       "*/\n",
       "\n",
       "/* Pipeline and ColumnTransformer style (default) */\n",
       "\n",
       "#sk-container-id-2 div.sk-toggleable {\n",
       "  /* Default theme specific background. It is overwritten whether we have a\n",
       "  specific estimator or a Pipeline/ColumnTransformer */\n",
       "  background-color: var(--sklearn-color-background);\n",
       "}\n",
       "\n",
       "/* Toggleable label */\n",
       "#sk-container-id-2 label.sk-toggleable__label {\n",
       "  cursor: pointer;\n",
       "  display: flex;\n",
       "  width: 100%;\n",
       "  margin-bottom: 0;\n",
       "  padding: 0.5em;\n",
       "  box-sizing: border-box;\n",
       "  text-align: center;\n",
       "  align-items: start;\n",
       "  justify-content: space-between;\n",
       "  gap: 0.5em;\n",
       "}\n",
       "\n",
       "#sk-container-id-2 label.sk-toggleable__label .caption {\n",
       "  font-size: 0.6rem;\n",
       "  font-weight: lighter;\n",
       "  color: var(--sklearn-color-text-muted);\n",
       "}\n",
       "\n",
       "#sk-container-id-2 label.sk-toggleable__label-arrow:before {\n",
       "  /* Arrow on the left of the label */\n",
       "  content: \"▸\";\n",
       "  float: left;\n",
       "  margin-right: 0.25em;\n",
       "  color: var(--sklearn-color-icon);\n",
       "}\n",
       "\n",
       "#sk-container-id-2 label.sk-toggleable__label-arrow:hover:before {\n",
       "  color: var(--sklearn-color-text);\n",
       "}\n",
       "\n",
       "/* Toggleable content - dropdown */\n",
       "\n",
       "#sk-container-id-2 div.sk-toggleable__content {\n",
       "  max-height: 0;\n",
       "  max-width: 0;\n",
       "  overflow: hidden;\n",
       "  text-align: left;\n",
       "  /* unfitted */\n",
       "  background-color: var(--sklearn-color-unfitted-level-0);\n",
       "}\n",
       "\n",
       "#sk-container-id-2 div.sk-toggleable__content.fitted {\n",
       "  /* fitted */\n",
       "  background-color: var(--sklearn-color-fitted-level-0);\n",
       "}\n",
       "\n",
       "#sk-container-id-2 div.sk-toggleable__content pre {\n",
       "  margin: 0.2em;\n",
       "  border-radius: 0.25em;\n",
       "  color: var(--sklearn-color-text);\n",
       "  /* unfitted */\n",
       "  background-color: var(--sklearn-color-unfitted-level-0);\n",
       "}\n",
       "\n",
       "#sk-container-id-2 div.sk-toggleable__content.fitted pre {\n",
       "  /* unfitted */\n",
       "  background-color: var(--sklearn-color-fitted-level-0);\n",
       "}\n",
       "\n",
       "#sk-container-id-2 input.sk-toggleable__control:checked~div.sk-toggleable__content {\n",
       "  /* Expand drop-down */\n",
       "  max-height: 200px;\n",
       "  max-width: 100%;\n",
       "  overflow: auto;\n",
       "}\n",
       "\n",
       "#sk-container-id-2 input.sk-toggleable__control:checked~label.sk-toggleable__label-arrow:before {\n",
       "  content: \"▾\";\n",
       "}\n",
       "\n",
       "/* Pipeline/ColumnTransformer-specific style */\n",
       "\n",
       "#sk-container-id-2 div.sk-label input.sk-toggleable__control:checked~label.sk-toggleable__label {\n",
       "  color: var(--sklearn-color-text);\n",
       "  background-color: var(--sklearn-color-unfitted-level-2);\n",
       "}\n",
       "\n",
       "#sk-container-id-2 div.sk-label.fitted input.sk-toggleable__control:checked~label.sk-toggleable__label {\n",
       "  background-color: var(--sklearn-color-fitted-level-2);\n",
       "}\n",
       "\n",
       "/* Estimator-specific style */\n",
       "\n",
       "/* Colorize estimator box */\n",
       "#sk-container-id-2 div.sk-estimator input.sk-toggleable__control:checked~label.sk-toggleable__label {\n",
       "  /* unfitted */\n",
       "  background-color: var(--sklearn-color-unfitted-level-2);\n",
       "}\n",
       "\n",
       "#sk-container-id-2 div.sk-estimator.fitted input.sk-toggleable__control:checked~label.sk-toggleable__label {\n",
       "  /* fitted */\n",
       "  background-color: var(--sklearn-color-fitted-level-2);\n",
       "}\n",
       "\n",
       "#sk-container-id-2 div.sk-label label.sk-toggleable__label,\n",
       "#sk-container-id-2 div.sk-label label {\n",
       "  /* The background is the default theme color */\n",
       "  color: var(--sklearn-color-text-on-default-background);\n",
       "}\n",
       "\n",
       "/* On hover, darken the color of the background */\n",
       "#sk-container-id-2 div.sk-label:hover label.sk-toggleable__label {\n",
       "  color: var(--sklearn-color-text);\n",
       "  background-color: var(--sklearn-color-unfitted-level-2);\n",
       "}\n",
       "\n",
       "/* Label box, darken color on hover, fitted */\n",
       "#sk-container-id-2 div.sk-label.fitted:hover label.sk-toggleable__label.fitted {\n",
       "  color: var(--sklearn-color-text);\n",
       "  background-color: var(--sklearn-color-fitted-level-2);\n",
       "}\n",
       "\n",
       "/* Estimator label */\n",
       "\n",
       "#sk-container-id-2 div.sk-label label {\n",
       "  font-family: monospace;\n",
       "  font-weight: bold;\n",
       "  display: inline-block;\n",
       "  line-height: 1.2em;\n",
       "}\n",
       "\n",
       "#sk-container-id-2 div.sk-label-container {\n",
       "  text-align: center;\n",
       "}\n",
       "\n",
       "/* Estimator-specific */\n",
       "#sk-container-id-2 div.sk-estimator {\n",
       "  font-family: monospace;\n",
       "  border: 1px dotted var(--sklearn-color-border-box);\n",
       "  border-radius: 0.25em;\n",
       "  box-sizing: border-box;\n",
       "  margin-bottom: 0.5em;\n",
       "  /* unfitted */\n",
       "  background-color: var(--sklearn-color-unfitted-level-0);\n",
       "}\n",
       "\n",
       "#sk-container-id-2 div.sk-estimator.fitted {\n",
       "  /* fitted */\n",
       "  background-color: var(--sklearn-color-fitted-level-0);\n",
       "}\n",
       "\n",
       "/* on hover */\n",
       "#sk-container-id-2 div.sk-estimator:hover {\n",
       "  /* unfitted */\n",
       "  background-color: var(--sklearn-color-unfitted-level-2);\n",
       "}\n",
       "\n",
       "#sk-container-id-2 div.sk-estimator.fitted:hover {\n",
       "  /* fitted */\n",
       "  background-color: var(--sklearn-color-fitted-level-2);\n",
       "}\n",
       "\n",
       "/* Specification for estimator info (e.g. \"i\" and \"?\") */\n",
       "\n",
       "/* Common style for \"i\" and \"?\" */\n",
       "\n",
       ".sk-estimator-doc-link,\n",
       "a:link.sk-estimator-doc-link,\n",
       "a:visited.sk-estimator-doc-link {\n",
       "  float: right;\n",
       "  font-size: smaller;\n",
       "  line-height: 1em;\n",
       "  font-family: monospace;\n",
       "  background-color: var(--sklearn-color-background);\n",
       "  border-radius: 1em;\n",
       "  height: 1em;\n",
       "  width: 1em;\n",
       "  text-decoration: none !important;\n",
       "  margin-left: 0.5em;\n",
       "  text-align: center;\n",
       "  /* unfitted */\n",
       "  border: var(--sklearn-color-unfitted-level-1) 1pt solid;\n",
       "  color: var(--sklearn-color-unfitted-level-1);\n",
       "}\n",
       "\n",
       ".sk-estimator-doc-link.fitted,\n",
       "a:link.sk-estimator-doc-link.fitted,\n",
       "a:visited.sk-estimator-doc-link.fitted {\n",
       "  /* fitted */\n",
       "  border: var(--sklearn-color-fitted-level-1) 1pt solid;\n",
       "  color: var(--sklearn-color-fitted-level-1);\n",
       "}\n",
       "\n",
       "/* On hover */\n",
       "div.sk-estimator:hover .sk-estimator-doc-link:hover,\n",
       ".sk-estimator-doc-link:hover,\n",
       "div.sk-label-container:hover .sk-estimator-doc-link:hover,\n",
       ".sk-estimator-doc-link:hover {\n",
       "  /* unfitted */\n",
       "  background-color: var(--sklearn-color-unfitted-level-3);\n",
       "  color: var(--sklearn-color-background);\n",
       "  text-decoration: none;\n",
       "}\n",
       "\n",
       "div.sk-estimator.fitted:hover .sk-estimator-doc-link.fitted:hover,\n",
       ".sk-estimator-doc-link.fitted:hover,\n",
       "div.sk-label-container:hover .sk-estimator-doc-link.fitted:hover,\n",
       ".sk-estimator-doc-link.fitted:hover {\n",
       "  /* fitted */\n",
       "  background-color: var(--sklearn-color-fitted-level-3);\n",
       "  color: var(--sklearn-color-background);\n",
       "  text-decoration: none;\n",
       "}\n",
       "\n",
       "/* Span, style for the box shown on hovering the info icon */\n",
       ".sk-estimator-doc-link span {\n",
       "  display: none;\n",
       "  z-index: 9999;\n",
       "  position: relative;\n",
       "  font-weight: normal;\n",
       "  right: .2ex;\n",
       "  padding: .5ex;\n",
       "  margin: .5ex;\n",
       "  width: min-content;\n",
       "  min-width: 20ex;\n",
       "  max-width: 50ex;\n",
       "  color: var(--sklearn-color-text);\n",
       "  box-shadow: 2pt 2pt 4pt #999;\n",
       "  /* unfitted */\n",
       "  background: var(--sklearn-color-unfitted-level-0);\n",
       "  border: .5pt solid var(--sklearn-color-unfitted-level-3);\n",
       "}\n",
       "\n",
       ".sk-estimator-doc-link.fitted span {\n",
       "  /* fitted */\n",
       "  background: var(--sklearn-color-fitted-level-0);\n",
       "  border: var(--sklearn-color-fitted-level-3);\n",
       "}\n",
       "\n",
       ".sk-estimator-doc-link:hover span {\n",
       "  display: block;\n",
       "}\n",
       "\n",
       "/* \"?\"-specific style due to the `<a>` HTML tag */\n",
       "\n",
       "#sk-container-id-2 a.estimator_doc_link {\n",
       "  float: right;\n",
       "  font-size: 1rem;\n",
       "  line-height: 1em;\n",
       "  font-family: monospace;\n",
       "  background-color: var(--sklearn-color-background);\n",
       "  border-radius: 1rem;\n",
       "  height: 1rem;\n",
       "  width: 1rem;\n",
       "  text-decoration: none;\n",
       "  /* unfitted */\n",
       "  color: var(--sklearn-color-unfitted-level-1);\n",
       "  border: var(--sklearn-color-unfitted-level-1) 1pt solid;\n",
       "}\n",
       "\n",
       "#sk-container-id-2 a.estimator_doc_link.fitted {\n",
       "  /* fitted */\n",
       "  border: var(--sklearn-color-fitted-level-1) 1pt solid;\n",
       "  color: var(--sklearn-color-fitted-level-1);\n",
       "}\n",
       "\n",
       "/* On hover */\n",
       "#sk-container-id-2 a.estimator_doc_link:hover {\n",
       "  /* unfitted */\n",
       "  background-color: var(--sklearn-color-unfitted-level-3);\n",
       "  color: var(--sklearn-color-background);\n",
       "  text-decoration: none;\n",
       "}\n",
       "\n",
       "#sk-container-id-2 a.estimator_doc_link.fitted:hover {\n",
       "  /* fitted */\n",
       "  background-color: var(--sklearn-color-fitted-level-3);\n",
       "}\n",
       "</style><div id=\"sk-container-id-2\" class=\"sk-top-container\"><div class=\"sk-text-repr-fallback\"><pre>RandomForestRegressor()</pre><b>In a Jupyter environment, please rerun this cell to show the HTML representation or trust the notebook. <br />On GitHub, the HTML representation is unable to render, please try loading this page with nbviewer.org.</b></div><div class=\"sk-container\" hidden><div class=\"sk-item\"><div class=\"sk-estimator fitted sk-toggleable\"><input class=\"sk-toggleable__control sk-hidden--visually\" id=\"sk-estimator-id-2\" type=\"checkbox\" checked><label for=\"sk-estimator-id-2\" class=\"sk-toggleable__label fitted sk-toggleable__label-arrow\"><div><div>RandomForestRegressor</div></div><div><a class=\"sk-estimator-doc-link fitted\" rel=\"noreferrer\" target=\"_blank\" href=\"https://scikit-learn.org/1.6/modules/generated/sklearn.ensemble.RandomForestRegressor.html\">?<span>Documentation for RandomForestRegressor</span></a><span class=\"sk-estimator-doc-link fitted\">i<span>Fitted</span></span></div></label><div class=\"sk-toggleable__content fitted\"><pre>RandomForestRegressor()</pre></div> </div></div></div></div>"
      ],
      "text/plain": [
       "RandomForestRegressor()"
      ]
     },
     "execution_count": 11,
     "metadata": {},
     "output_type": "execute_result"
    }
   ],
   "source": [
    "# Entrenamos el modelo de árbol de decisión sin parametrizar\n",
    "reg.fit(X_train, y_train)"
   ]
  },
  {
   "cell_type": "code",
   "execution_count": 12,
   "metadata": {},
   "outputs": [],
   "source": [
    "# Realizamos las predicciones del modelo\n",
    "y_pred = reg.predict(X_test)"
   ]
  },
  {
   "cell_type": "markdown",
   "metadata": {},
   "source": [
    "### Validación"
   ]
  },
  {
   "cell_type": "code",
   "execution_count": 13,
   "metadata": {},
   "outputs": [
    {
     "name": "stdout",
     "output_type": "stream",
     "text": [
      "MSE en entrenamiento: 3107789.08\n",
      "RMSE en entrenamiento: 1762.89\n",
      "MAE en entrenamiento:  1310.41\n"
     ]
    }
   ],
   "source": [
    "# Realizamos pruebas de validación con MSE, RMSE y MAE\n",
    "mse_sin_calibrar = mean_squared_error(y_test, y_pred)\n",
    "rmse_sin_calibrar = root_mean_squared_error(y_test, y_pred)\n",
    "mae_sin_calibrar = mean_absolute_error(y_test, y_pred)\n",
    "\n",
    "print(f\"MSE en entrenamiento: {mse_sin_calibrar:.2f}\")\n",
    "print(f\"RMSE en entrenamiento: {rmse_sin_calibrar:.2f}\")\n",
    "print(f\"MAE en entrenamiento:  {mae_sin_calibrar:.2f}\")"
   ]
  },
  {
   "cell_type": "markdown",
   "metadata": {},
   "source": [
    "### Con validación cruzada"
   ]
  },
  {
   "cell_type": "code",
   "execution_count": 14,
   "metadata": {},
   "outputs": [
    {
     "name": "stdout",
     "output_type": "stream",
     "text": [
      "Resumen MSE de validación cruzada en modelo sin calibrar:\n",
      "count    5.000000e+00\n",
      "mean     3.020061e+06\n",
      "std      1.081546e+05\n",
      "min      2.859006e+06\n",
      "25%      2.989085e+06\n",
      "50%      3.013268e+06\n",
      "75%      3.113188e+06\n",
      "max      3.125761e+06\n",
      "dtype: float64\n"
     ]
    }
   ],
   "source": [
    "# Validación cruzada con MSE\n",
    "mse_cv = -cross_val_score(reg, X_train, y_train, cv=cv, scoring='neg_mean_squared_error')\n",
    "print(\"Resumen MSE de validación cruzada en modelo sin calibrar:\")\n",
    "print(pd.Series(mse_cv).describe())"
   ]
  },
  {
   "cell_type": "code",
   "execution_count": 15,
   "metadata": {},
   "outputs": [
    {
     "name": "stdout",
     "output_type": "stream",
     "text": [
      "Resumen RMSE de validación cruzada en modelo sin calibrar:\n"
     ]
    },
    {
     "data": {
      "text/plain": [
       "count       5.000000\n",
       "mean     1738.530081\n",
       "std        34.154250\n",
       "min      1686.146592\n",
       "25%      1732.876930\n",
       "50%      1735.311439\n",
       "75%      1767.816278\n",
       "max      1770.499164\n",
       "dtype: float64"
      ]
     },
     "execution_count": 15,
     "metadata": {},
     "output_type": "execute_result"
    }
   ],
   "source": [
    "# Validación cruzada con RMSE\n",
    "rmse_cv = -cross_val_score(reg, X_train, y_train, cv=cv, scoring='neg_root_mean_squared_error')\n",
    "print(\"Resumen RMSE de validación cruzada en modelo sin calibrar:\")\n",
    "pd.Series(rmse_cv).describe()"
   ]
  },
  {
   "cell_type": "code",
   "execution_count": 16,
   "metadata": {},
   "outputs": [
    {
     "name": "stdout",
     "output_type": "stream",
     "text": [
      "Resumen MAE de validación cruzada en modelo sin calibrar:\n"
     ]
    },
    {
     "data": {
      "text/plain": [
       "count       5.000000\n",
       "mean     1300.231858\n",
       "std        22.877773\n",
       "min      1260.805165\n",
       "25%      1302.991156\n",
       "50%      1306.774588\n",
       "75%      1311.114651\n",
       "max      1319.473731\n",
       "dtype: float64"
      ]
     },
     "execution_count": 16,
     "metadata": {},
     "output_type": "execute_result"
    }
   ],
   "source": [
    "# MAE\n",
    "mae_cv = -cross_val_score(reg, X_train, y_train, cv=cv, scoring='neg_mean_absolute_error')\n",
    "print(\"Resumen MAE de validación cruzada en modelo sin calibrar:\")\n",
    "pd.Series(mae_cv).describe()"
   ]
  },
  {
   "cell_type": "markdown",
   "metadata": {},
   "source": [
    "### Análisis\n",
    "El realizar el entrenamiento del modelo, sin hacer uso de parametrización, este va a ejecutar los parámetros por default, en este caso, se podría esperar que el modelo pueda estar sobreajustado antes de realizar la validación cruzada. Al comparar las métricas de control luego de realizar la validación cruzada, se encuentra que los resultados con 5 folds, son un poco interiores a la evaluación original. En tanto, es posible concluir que el modelo no está sobreajustado."
   ]
  },
  {
   "cell_type": "markdown",
   "metadata": {},
   "source": [
    "### Punto 5 - Calibración de parámetros Random forest\n",
    "\n",
    "En la celda 5, calibren los parámetros max_depth, max_features y n_estimators del modelo de Randon Forest para regresión, comenten sobre el desempeño del modelo y describan cómo cada parámetro afecta el desempeño del modelo."
   ]
  },
  {
   "cell_type": "markdown",
   "metadata": {},
   "source": [
    "### Calibración de n_estimators"
   ]
  },
  {
   "cell_type": "code",
   "execution_count": 17,
   "metadata": {},
   "outputs": [
    {
     "name": "stdout",
     "output_type": "stream",
     "text": [
      "n_estimators = 10: MSE promedio = 3118230.84\n",
      "n_estimators = 20: MSE promedio = 3066926.69\n",
      "n_estimators = 30: MSE promedio = 3044593.65\n",
      "n_estimators = 40: MSE promedio = 3033870.07\n",
      "n_estimators = 50: MSE promedio = 3032125.26\n",
      "n_estimators = 60: MSE promedio = 3031085.78\n",
      "n_estimators = 70: MSE promedio = 3029331.92\n",
      "n_estimators = 80: MSE promedio = 3033477.13\n",
      "n_estimators = 90: MSE promedio = 3031439.83\n",
      "n_estimators = 100: MSE promedio = 3031475.89\n",
      "n_estimators = 110: MSE promedio = 3027984.74\n",
      "n_estimators = 120: MSE promedio = 3028026.42\n",
      "n_estimators = 130: MSE promedio = 3030311.76\n",
      "n_estimators = 140: MSE promedio = 3029939.94\n",
      "n_estimators = 150: MSE promedio = 3028457.14\n",
      "n_estimators = 160: MSE promedio = 3026690.53\n",
      "n_estimators = 170: MSE promedio = 3027478.82\n",
      "n_estimators = 180: MSE promedio = 3026166.55\n",
      "n_estimators = 190: MSE promedio = 3025537.25\n",
      "n_estimators = 200: MSE promedio = 3023547.10\n",
      "n_estimators = 210: MSE promedio = 3023193.31\n",
      "n_estimators = 220: MSE promedio = 3023175.06\n",
      "n_estimators = 230: MSE promedio = 3022953.29\n",
      "n_estimators = 240: MSE promedio = 3021098.60\n",
      "n_estimators = 250: MSE promedio = 3020528.41\n",
      "n_estimators = 260: MSE promedio = 3020806.50\n",
      "n_estimators = 270: MSE promedio = 3021706.94\n",
      "n_estimators = 280: MSE promedio = 3021002.18\n",
      "n_estimators = 290: MSE promedio = 3020792.82\n",
      "n_estimators = 300: MSE promedio = 3020158.77\n",
      "\n",
      "El menor MSE es 3020158.77, obtenido con n_estimators = 300\n"
     ]
    }
   ],
   "source": [
    "# Definimos rango y saltos para encontrar un número óptimo de estimadores\n",
    "estimator_range = range(10, 310, 10)\n",
    "mse_scores = []\n",
    "\n",
    "# Se mantiene los 5-fold cross-validation para cada valor de n_estimators\n",
    "for estimator in estimator_range:\n",
    "    reg = RandomForestRegressor(n_estimators=estimator, random_state=0)\n",
    "    mse = -cross_val_score(reg, X_train, y_train, cv=cv, scoring='neg_mean_squared_error').mean()\n",
    "    mse_scores.append(mse)\n",
    "\n",
    "for n, score in zip(estimator_range, mse_scores):\n",
    "    print(f\"n_estimators = {n}: MSE promedio = {score:.2f}\")\n",
    "\n",
    "min_mse_1 = min(mse_scores)\n",
    "optimal_n_estimators = estimator_range[mse_scores.index(min_mse_1)]\n",
    "\n",
    "print(f\"\\nEl menor MSE es {min_mse_1:.2f}, obtenido con n_estimators = {optimal_n_estimators}\")"
   ]
  },
  {
   "cell_type": "code",
   "execution_count": 18,
   "metadata": {},
   "outputs": [
    {
     "data": {
      "image/png": "[encoded data removed]",
      "text/plain": [
       "<Figure size 640x480 with 1 Axes>"
      ]
     },
     "metadata": {},
     "output_type": "display_data"
    }
   ],
   "source": [
    "# Gráfica del desempeño del modelo vs la cantidad de n_estimators\n",
    "plt.plot(estimator_range, mse_scores, marker='o')\n",
    "plt.title(\"MSE vs n_estimators\")\n",
    "plt.xlabel(\"n_estimators\")\n",
    "plt.ylabel(\"MSE promedio\")\n",
    "plt.grid(True)\n",
    "plt.show()"
   ]
  },
  {
   "cell_type": "markdown",
   "metadata": {},
   "source": [
    "#### Valor óptimo de n_estimators: 300"
   ]
  },
  {
   "cell_type": "markdown",
   "metadata": {},
   "source": [
    "### Calibración de max_features"
   ]
  },
  {
   "cell_type": "code",
   "execution_count": 19,
   "metadata": {},
   "outputs": [
    {
     "name": "stdout",
     "output_type": "stream",
     "text": [
      "max_features = sqrt: MSE promedio = 3091670.09\n",
      "max_features = log2: MSE promedio = 3091670.09\n",
      "max_features = None: MSE promedio = 3020158.77\n",
      "\n",
      "El menor MSE es 3020158.77, obtenido con max_features = None\n"
     ]
    }
   ],
   "source": [
    "features_options = ['sqrt', 'log2', None]\n",
    "mse_scores = []\n",
    "\n",
    "for feat in features_options:\n",
    "    reg = RandomForestRegressor(n_estimators=300, max_features=feat, random_state=0)\n",
    "    mse = -cross_val_score(reg, X_train, y_train, cv=cv, scoring='neg_mean_squared_error').mean()\n",
    "    mse_scores.append(mse)\n",
    "\n",
    "for f, score in zip(features_options, mse_scores):\n",
    "    print(f\"max_features = {f}: MSE promedio = {score:.2f}\")\n",
    "\n",
    "min_mse_2 = min(mse_scores)\n",
    "optimal_max_features = features_options[mse_scores.index(min_mse_2)]\n",
    "\n",
    "print(f\"\\nEl menor MSE es {min_mse_2:.2f}, obtenido con max_features = {optimal_max_features}\")"
   ]
  },
  {
   "cell_type": "code",
   "execution_count": 20,
   "metadata": {},
   "outputs": [
    {
     "data": {
      "image/png": "[encoded data removed]",
      "text/plain": [
       "<Figure size 640x480 with 1 Axes>"
      ]
     },
     "metadata": {},
     "output_type": "display_data"
    }
   ],
   "source": [
    "plt.plot([str(f) for f in features_options], mse_scores, marker='o')\n",
    "plt.title(\"MSE vs max_features\")\n",
    "plt.xlabel(\"max_features\")\n",
    "plt.ylabel(\"MSE promedio\")\n",
    "plt.grid(True)\n",
    "plt.show()"
   ]
  },
  {
   "cell_type": "markdown",
   "metadata": {},
   "source": [
    "#### Valor óptimo de max_features: None"
   ]
  },
  {
   "cell_type": "markdown",
   "metadata": {},
   "source": [
    "### Calibracióm max_depth"
   ]
  },
  {
   "cell_type": "code",
   "execution_count": 21,
   "metadata": {},
   "outputs": [
    {
     "name": "stdout",
     "output_type": "stream",
     "text": [
      "max_depth = 2: MSE promedio = 3978101.40\n",
      "max_depth = 3: MSE promedio = 3230524.28\n",
      "max_depth = 4: MSE promedio = 2811756.00\n",
      "max_depth = 5: MSE promedio = 2556179.76\n",
      "max_depth = 6: MSE promedio = 2408606.85\n",
      "max_depth = 7: MSE promedio = 2342490.42\n",
      "max_depth = 8: MSE promedio = 2335899.98\n",
      "max_depth = 9: MSE promedio = 2363458.39\n",
      "max_depth = 10: MSE promedio = 2415771.64\n",
      "max_depth = 11: MSE promedio = 2481067.74\n",
      "max_depth = 12: MSE promedio = 2552590.42\n",
      "max_depth = 13: MSE promedio = 2624974.76\n",
      "max_depth = 14: MSE promedio = 2695649.44\n",
      "max_depth = 15: MSE promedio = 2759274.11\n",
      "max_depth = 16: MSE promedio = 2811812.48\n",
      "max_depth = 17: MSE promedio = 2858176.62\n",
      "max_depth = 18: MSE promedio = 2892376.46\n",
      "max_depth = 19: MSE promedio = 2920951.32\n",
      "max_depth = 20: MSE promedio = 2942045.03\n",
      "\n",
      "El menor MSE es 2335899.98, obtenido con max_depth = 8\n"
     ]
    }
   ],
   "source": [
    "depth_range = list(range(2, 21))\n",
    "mse_scores = []\n",
    "\n",
    "# Validación cruzada para cada valor de max_depth\n",
    "for depth in depth_range:\n",
    "    reg = RandomForestRegressor(n_estimators=300, max_features= None, max_depth=depth, random_state=0)\n",
    "    mse = -cross_val_score(reg, X_train, y_train, cv=5, scoring='neg_mean_squared_error').mean()\n",
    "    mse_scores.append(mse)\n",
    "\n",
    "# Mostrar resultados\n",
    "for d, score in zip(depth_range, mse_scores):\n",
    "    print(f\"max_depth = {d}: MSE promedio = {score:.2f}\")\n",
    "\n",
    "min_mse_3 = min(mse_scores)\n",
    "optimal_max_depth = depth_range[mse_scores.index(min_mse_3)]\n",
    "\n",
    "print(f\"\\nEl menor MSE es {min_mse_3:.2f}, obtenido con max_depth = {optimal_max_depth}\")"
   ]
  },
  {
   "cell_type": "code",
   "execution_count": 22,
   "metadata": {},
   "outputs": [
    {
     "data": {
      "image/png": "[encoded data removed]",
      "text/plain": [
       "<Figure size 640x480 with 1 Axes>"
      ]
     },
     "metadata": {},
     "output_type": "display_data"
    }
   ],
   "source": [
    "plt.plot(depth_range, mse_scores, marker='o')\n",
    "plt.title(\"MSE vs max_depth\")\n",
    "plt.xlabel(\"max_depth\")\n",
    "plt.ylabel(\"MSE promedio\")\n",
    "plt.grid(True)\n",
    "plt.show()"
   ]
  },
  {
   "cell_type": "markdown",
   "metadata": {},
   "source": [
    "#### Valor óptimo de max_depth: 8"
   ]
  },
  {
   "cell_type": "markdown",
   "metadata": {},
   "source": [
    "### Modelo calibrado de forma manual"
   ]
  },
  {
   "cell_type": "code",
   "execution_count": 23,
   "metadata": {},
   "outputs": [],
   "source": [
    "red_ajustado = RandomForestRegressor(\n",
    "    n_estimators=300,\n",
    "    max_depth=8,\n",
    "    max_features= None,\n",
    "    random_state=0\n",
    ")\n",
    "red_ajustado.fit(X_train, y_train)\n",
    "predicciones = red_ajustado.predict(X_test)"
   ]
  },
  {
   "cell_type": "code",
   "execution_count": 24,
   "metadata": {},
   "outputs": [
    {
     "name": "stdout",
     "output_type": "stream",
     "text": [
      "MSE del modelo final ajustado: 2450498.79\n",
      "RMSE del modelo final ajustado: 1565.41\n",
      "MAE del modelo final ajustado: 1150.84\n"
     ]
    }
   ],
   "source": [
    "mse_manual = mean_squared_error(y_test, predicciones)\n",
    "rmse_manual = np.sqrt(mse_manual)\n",
    "mae_manual = mean_absolute_error(y_test, predicciones)\n",
    "print(f\"MSE del modelo final ajustado: {mse_manual:.2f}\")\n",
    "print(f\"RMSE del modelo final ajustado: {rmse_manual:.2f}\")\n",
    "print(f\"MAE del modelo final ajustado: {mae_manual:.2f}\")"
   ]
  },
  {
   "cell_type": "markdown",
   "metadata": {},
   "source": [
    "### Evolución del error al ajustar los parámetros"
   ]
  },
  {
   "cell_type": "code",
   "execution_count": 25,
   "metadata": {},
   "outputs": [
    {
     "data": {
      "image/png": "[encoded data removed]",
      "text/plain": [
       "<Figure size 600x400 with 1 Axes>"
      ]
     },
     "metadata": {},
     "output_type": "display_data"
    }
   ],
   "source": [
    "labels = ['n_estimators', 'max_features', 'max_depth']\n",
    "values = [min_mse_1, min_mse_2, min_mse_3]\n",
    "\n",
    "# Crear la gráfica de barras\n",
    "plt.figure(figsize=(6, 4))\n",
    "bars = plt.bar(labels, values, color='skyblue')\n",
    "plt.ylabel('MSE')\n",
    "plt.title('Comparación de MSE mínimos')\n",
    "plt.grid(axis='y', linestyle='--', alpha=0.7)\n",
    "\n",
    "# Agregar etiquetas de valor encima de cada barra\n",
    "for bar in bars:\n",
    "    height = bar.get_height()\n",
    "    plt.text(bar.get_x() + bar.get_width()/2.0, height + 0.05, f'{height:.2f}',\n",
    "             ha='center', va='bottom', fontsize=10)\n",
    "\n",
    "plt.tight_layout()\n",
    "plt.show()"
   ]
  },
  {
   "cell_type": "markdown",
   "metadata": {},
   "source": [
    "### Prueba de calibración con todos los parámetros en simultaneo (RandomizedSearchCV)\n",
    "\n",
    "Luego de consultar técnicas de calibración para modelos basados en árboles de decisión, se encontró que las más recomendadas son GridSearchCV y RandomizedSearchCV. En este caso, se optará por utilizar **RandomizedSearchCV**, ya que esta técnica considera combinaciones aleatorias y no secuenciales, como se hizo en el ejercicio anterior. Esto permite ejecutar la búsqueda una sola vez, reduce el tiempo de cómputo y optimiza los hiperparámetros en función de las combinaciones evaluadas."
   ]
  },
  {
   "cell_type": "code",
   "execution_count": 26,
   "metadata": {},
   "outputs": [
    {
     "name": "stdout",
     "output_type": "stream",
     "text": [
      "Mejores parámetros encontrados:\n",
      "{'max_depth': 8, 'max_features': 'log2', 'n_estimators': 129}\n",
      "\n",
      "Evaluación del mejor modelo en el conjunto de test:\n",
      "MSE  : 2419578.60\n",
      "RMSE : 1555.50\n",
      "MAE  : 1142.47\n"
     ]
    }
   ],
   "source": [
    "# Establecemos el modelo Random Forest nuevamente con las mismas condiciones inciales\n",
    "reg = RandomForestRegressor(random_state=0)\n",
    "\n",
    "# Definimos los rangos para los hiperparámetros\n",
    "param_dist = {\n",
    "    'n_estimators': randint(50, 300),         # Número de árboles\n",
    "    'max_depth': randint(3, 30),              # Profundidad máxima de los árboles\n",
    "    'max_features': [None, 'sqrt', 'log2']  # Cantidad de variables por división\n",
    "}\n",
    "\n",
    "# Configuramos RandomizedSearchCV\n",
    "random_search = RandomizedSearchCV(\n",
    "    reg,\n",
    "    param_distributions=param_dist,\n",
    "    n_iter=20,                    # Número de combinaciones a probar en este ejercicio\n",
    "    scoring='neg_root_mean_squared_error',\n",
    "    cv=cv,\n",
    "    random_state=0,\n",
    ")\n",
    "\n",
    "# Entrenamos el RandomizedSearchCV\n",
    "random_search.fit(X_train, y_train)\n",
    "y_pred = random_search.predict(X_test)\n",
    "\n",
    "# Mostramos los mejores parámetros encontrados\n",
    "print(\"Mejores parámetros encontrados:\")\n",
    "print(random_search.best_params_)\n",
    "\n",
    "# Métricas de evaluación\n",
    "mse_random = mean_squared_error(y_test, y_pred)\n",
    "rmse_random = np.sqrt(mse_random)\n",
    "mae_random = mean_absolute_error(y_test, y_pred)\n",
    "\n",
    "print(f\"\\nEvaluación del mejor modelo en el conjunto de test:\")\n",
    "print(f\"MSE  : {mse_random:.2f}\")\n",
    "print(f\"RMSE : {rmse_random:.2f}\")\n",
    "print(f\"MAE  : {mae_random:.2f}\")"
   ]
  },
  {
   "cell_type": "code",
   "execution_count": 27,
   "metadata": {},
   "outputs": [
    {
     "name": "stdout",
     "output_type": "stream",
     "text": [
      "Resumen MSE (validación cruzada):\n",
      "count    5.000000e+00\n",
      "mean     2.309026e+06\n",
      "std      7.774075e+04\n",
      "min      2.187643e+06\n",
      "25%      2.289466e+06\n",
      "50%      2.318388e+06\n",
      "75%      2.362285e+06\n",
      "max      2.387345e+06\n",
      "dtype: float64\n"
     ]
    }
   ],
   "source": [
    "# Validación cruzada con MSE\n",
    "rmse_cv = -cross_val_score(random_search, X_train, y_train, cv=cv, scoring='neg_mean_squared_error')\n",
    "print(\"Resumen MSE (validación cruzada):\")\n",
    "print(pd.Series(rmse_cv).describe())"
   ]
  },
  {
   "cell_type": "markdown",
   "metadata": {},
   "source": [
    "### Comparación"
   ]
  },
  {
   "cell_type": "code",
   "execution_count": 28,
   "metadata": {},
   "outputs": [
    {
     "data": {
      "image/png": "[encoded data removed]",
      "text/plain": [
       "<Figure size 1500x500 with 3 Axes>"
      ]
     },
     "metadata": {},
     "output_type": "display_data"
    }
   ],
   "source": [
    "metricas = ['MSE', 'RMSE', 'MAE']\n",
    "modelos = ['Sin calibrar', 'Manual', 'RandomSearchCV']\n",
    "\n",
    "# Tus métricas previamente calculadas\n",
    "modelo_sin_calibrar = [mse_sin_calibrar, rmse_sin_calibrar, mae_sin_calibrar]\n",
    "modelo_manual = [mse_manual, rmse_manual, mae_manual]\n",
    "modelo_random = [mse_random, rmse_random, mae_random]\n",
    "\n",
    "# Transponer para tener los valores por métrica\n",
    "valores = np.array([modelo_sin_calibrar, modelo_manual, modelo_random]).T\n",
    "\n",
    "# Crear los subgráficos\n",
    "fig, axs = plt.subplots(1, 3, figsize=(15, 5))\n",
    "\n",
    "for i in range(3):\n",
    "    bars = axs[i].bar(modelos, valores[i], color=['skyblue', 'orange', 'green'])\n",
    "    axs[i].set_title(metricas[i])\n",
    "    axs[i].set_ylabel('Valor')\n",
    "\n",
    "    # Etiquetas sobre las barras\n",
    "    for bar in bars:\n",
    "        height = bar.get_height()\n",
    "        axs[i].annotate(f'{height:,.2f}',\n",
    "                        xy=(bar.get_x() + bar.get_width() / 2, height),\n",
    "                        xytext=(0, 5),  # Desplazamiento\n",
    "                        textcoords='offset points',\n",
    "                        ha='center', va='bottom',\n",
    "                        fontsize=8)\n",
    "\n",
    "plt.suptitle('Comparación de métricas entre modelos', fontsize=14)\n",
    "plt.tight_layout()\n",
    "plt.show()"
   ]
  },
  {
   "cell_type": "markdown",
   "metadata": {},
   "source": [
    "### Análisis\n",
    "Al comparar los tres enfoques evaluados, se evidencia que la calibración del modelo mejora significativamente su desempeño. El modelo sin calibrar presenta los errores más altos en todas las métricas (MSE, RMSE y MAE), mientras que la calibración manual permite una mejora sustancial en la precisión. No obstante, el modelo ajustado mediante RandomizedSearchCV obtiene los mejores resultados, al reducir aún más los errores y optimizar el rendimiento general. Esta técnica, al explorar combinaciones aleatorias de hiperparámetros, no solo mejora la eficiencia computacional, sino que también maximiza la capacidad predictiva del modelo con menos esfuerzo manual."
   ]
  },
  {
   "cell_type": "markdown",
   "metadata": {},
   "source": [
    "### Punto 6 - XGBoost con librería\n",
    "\n",
    "En la celda 6 implementen un modelo XGBoost de regresión con la librería sklearn y comenten sobre el desempeño del modelo."
   ]
  },
  {
   "cell_type": "code",
   "execution_count": 29,
   "metadata": {},
   "outputs": [],
   "source": [
    "xbg_m = XGBRegressor()\n",
    "scr_rmse = math.sqrt(-1*(cross_val_score(xbg_m,X,y,cv=cv,scoring='neg_mean_squared_error').mean()))\n",
    "scr_mae = -1 * (cross_val_score(xbg_m,X,y,cv=cv,scoring='neg_mean_absolute_error').mean())"
   ]
  },
  {
   "cell_type": "markdown",
   "metadata": {},
   "source": [
    "#### Respuesta: Resultados XGboost e interpretación\n",
    "Se observa que el RMSE (Raíz del Error Cuadrático Medio) es de 1583.20, y el MAE (Error Absoluto Medio) es de 1167.22.\n",
    "\n",
    "Lo anterior implica que el modelo XGboost que se generó en la celda anterior, se desvía arroneamente en 1583.20 unidades con respecto al precio real. Asimismo, de acuerdo con el MAE, el modelo también se estaría desviando en 1167.22 unidades (precio) con respecto a los valores reales."
   ]
  },
  {
   "cell_type": "markdown",
   "metadata": {},
   "source": [
    "### Punto 7 - Calibración de parámetros XGBoost\n",
    "\n",
    "En la celda 7 calibren los parámetros learning rate, gamma y colsample_bytree del modelo XGBoost para regresión, comenten sobre el desempeño del modelo y describan cómo cada parámetro afecta el desempeño del modelo."
   ]
  },
  {
   "cell_type": "code",
   "execution_count": 30,
   "metadata": {},
   "outputs": [
    {
     "name": "stdout",
     "output_type": "stream",
     "text": [
      "\n",
      "El menor RMSE es 1520.12, obtenido con learning_rate = 0.04\n",
      "\n",
      "El menor MAE es 1116.31, obtenido con learning_rate = 0.05\n"
     ]
    }
   ],
   "source": [
    "scr_rmse_cal = []\n",
    "scr_mae_cal = []\n",
    "\n",
    "lr = np.arange(0.01, 0.2, 0.01)\n",
    "\n",
    "for i in lr:\n",
    "    xbg_cal = XGBRegressor(learning_rate = i, ramdom_state = 0)\n",
    "    xgb_cal_rmse = math.sqrt(-1*(cross_val_score(xbg_cal,X,y,cv=5,scoring='neg_mean_squared_error').mean()))\n",
    "    xgb_cal_mae = -1*(cross_val_score(xbg_cal,X,y,cv=5,scoring='neg_mean_absolute_error').mean())\n",
    "    scr_rmse_cal.append(xgb_cal_rmse)\n",
    "    scr_mae_cal.append(xgb_cal_mae)\n",
    "\n",
    "min_rmse_1 = min(scr_rmse_cal)\n",
    "optimal_n_estimators_rmse = lr[scr_rmse_cal.index(min_rmse_1)]\n",
    "\n",
    "min_mae_1 = min(scr_mae_cal)\n",
    "optimal_n_estimators_mae = lr[scr_mae_cal.index(min_mae_1)]\n",
    "\n",
    "print(f\"\\nEl menor RMSE es {min_rmse_1:.2f}, obtenido con learning_rate = {optimal_n_estimators_rmse}\")\n",
    "print(f\"\\nEl menor MAE es {min_mae_1:.2f}, obtenido con learning_rate = {optimal_n_estimators_mae}\")"
   ]
  },
  {
   "cell_type": "code",
   "execution_count": 31,
   "metadata": {},
   "outputs": [
    {
     "data": {
      "image/png": "[encoded data removed]",
      "text/plain": [
       "<Figure size 640x480 with 1 Axes>"
      ]
     },
     "metadata": {},
     "output_type": "display_data"
    }
   ],
   "source": [
    "plt.plot(lr, scr_rmse_cal)\n",
    "plt.xlabel('learning_rate')\n",
    "plt.ylabel('scr_rmse_cal')\n",
    "plt.show()"
   ]
  },
  {
   "cell_type": "code",
   "execution_count": 32,
   "metadata": {},
   "outputs": [
    {
     "data": {
      "image/png": "[encoded data removed]",
      "text/plain": [
       "<Figure size 640x480 with 1 Axes>"
      ]
     },
     "metadata": {},
     "output_type": "display_data"
    }
   ],
   "source": [
    "plt.plot(lr, scr_mae_cal)\n",
    "plt.xlabel('learning_rate')\n",
    "plt.ylabel('scr_mae_cal')\n",
    "plt.show()"
   ]
  },
  {
   "cell_type": "code",
   "execution_count": 33,
   "metadata": {},
   "outputs": [
    {
     "name": "stdout",
     "output_type": "stream",
     "text": [
      "Tanto el RMSE como el MAE parecen sugerir el error se minimiza al rededor del intervalo 0.03 - 0.05. Es por esta razón que para el learning rate se utilizará un valor de 0.04 el cual corresponde a un RMSE de 1520.12.\n"
     ]
    }
   ],
   "source": [
    "print(\"Tanto el RMSE como el MAE parecen sugerir el error se minimiza al rededor del intervalo 0.03 - 0.05. Es por esta razón que para el \\\n",
    "learning rate se utilizará un valor de 0.04 el cual corresponde a un RMSE de 1520.12.\")"
   ]
  },
  {
   "cell_type": "code",
   "execution_count": 34,
   "metadata": {},
   "outputs": [
    {
     "name": "stdout",
     "output_type": "stream",
     "text": [
      "\n",
      "El menor RMSE es 1520.12, obtenido con gamma = 0.01\n",
      "\n",
      "El menor MAE es 1117.41, obtenido con gamma = 0.01\n"
     ]
    }
   ],
   "source": [
    "scr_rmse_cal = []\n",
    "scr_mae_cal = []\n",
    "\n",
    "gamma_cal = np.arange(0.01, 1, 0.1)\n",
    "gamma_cr = np.round(gamma_cal, 2)\n",
    "\n",
    "for i in gamma_cr:\n",
    "    xbg_cal = XGBRegressor(learning_rate = 0.04, gamma=i, ramdom_state = 0)\n",
    "    xgb_cal_rmse = math.sqrt(-1*(cross_val_score(xbg_cal,X,y,cv=5,scoring='neg_mean_squared_error').mean()))\n",
    "    xgb_cal_mae = -1*(cross_val_score(xbg_cal,X,y,cv=5,scoring='neg_mean_absolute_error').mean())\n",
    "    scr_rmse_cal.append(xgb_cal_rmse)\n",
    "    scr_mae_cal.append(xgb_cal_mae)\n",
    "\n",
    "min_rmse_1 = min(scr_rmse_cal)\n",
    "optimal_n_estimators_rmse = lr[scr_rmse_cal.index(min_rmse_1)]\n",
    "\n",
    "min_mae_1 = min(scr_mae_cal)\n",
    "optimal_n_estimators_mae = lr[scr_mae_cal.index(min_mae_1)]\n",
    "\n",
    "print(f\"\\nEl menor RMSE es {min_rmse_1:.2f}, obtenido con gamma = {optimal_n_estimators_rmse}\")\n",
    "print(f\"\\nEl menor MAE es {min_mae_1:.2f}, obtenido con gamma = {optimal_n_estimators_mae}\")"
   ]
  },
  {
   "cell_type": "code",
   "execution_count": 35,
   "metadata": {},
   "outputs": [
    {
     "data": {
      "image/png": "[encoded data removed]",
      "text/plain": [
       "<Figure size 640x480 with 1 Axes>"
      ]
     },
     "metadata": {},
     "output_type": "display_data"
    }
   ],
   "source": [
    "plt.plot(gamma_cr, scr_rmse_cal)\n",
    "plt.xlabel('gamma')\n",
    "plt.ylabel('scr_rmse_cal')\n",
    "plt.show()"
   ]
  },
  {
   "cell_type": "code",
   "execution_count": 36,
   "metadata": {},
   "outputs": [
    {
     "data": {
      "image/png": "[encoded data removed]",
      "text/plain": [
       "<Figure size 640x480 with 1 Axes>"
      ]
     },
     "metadata": {},
     "output_type": "display_data"
    }
   ],
   "source": [
    "plt.plot(gamma_cr, scr_mae_cal)\n",
    "plt.xlabel('gamma')\n",
    "plt.ylabel('scr_mae_cal')\n",
    "plt.show()"
   ]
  },
  {
   "cell_type": "code",
   "execution_count": 37,
   "metadata": {},
   "outputs": [
    {
     "name": "stdout",
     "output_type": "stream",
     "text": [
      "Tanto el RMSE como el MAE parecen sugerir al variar el parámetro gamma no se observa una variación en el error. Es por esta razón que para el parámetro gamma no se utilizará ningún valor.\n"
     ]
    }
   ],
   "source": [
    "print(\"Tanto el RMSE como el MAE parecen sugerir al variar el parámetro gamma no se observa una variación en el error. Es por esta razón que para el \\\n",
    "parámetro gamma no se utilizará ningún valor.\")"
   ]
  },
  {
   "cell_type": "code",
   "execution_count": 38,
   "metadata": {},
   "outputs": [
    {
     "name": "stdout",
     "output_type": "stream",
     "text": [
      "\n",
      "El menor RMSE es 1516.41, colsample_bytree = 0.08\n",
      "\n",
      "El menor MAE es 1116.18, colsample_bytree = 0.09\n"
     ]
    }
   ],
   "source": [
    "scr_rmse_cal = []\n",
    "scr_mae_cal = []\n",
    "\n",
    "colsample_bytree_cal = np.arange(0.1, 1.1, 0.1)\n",
    "\n",
    "for i in colsample_bytree_cal:\n",
    "    xbg_cal = XGBRegressor(learning_rate = 0.04, colsample_bytree=i, ramdom_state = 0)\n",
    "    xgb_cal_rmse = math.sqrt(-1*(cross_val_score(xbg_cal,X,y,cv=5,scoring='neg_mean_squared_error').mean()))\n",
    "    xgb_cal_mae = -1*(cross_val_score(xbg_cal,X,y,cv=5,scoring='neg_mean_absolute_error').mean())\n",
    "    scr_rmse_cal.append(xgb_cal_rmse)\n",
    "    scr_mae_cal.append(xgb_cal_mae)\n",
    "\n",
    "min_rmse_1 = min(scr_rmse_cal)\n",
    "optimal_n_estimators_rmse = lr[scr_rmse_cal.index(min_rmse_1)]\n",
    "\n",
    "min_mae_1 = min(scr_mae_cal)\n",
    "optimal_n_estimators_mae = lr[scr_mae_cal.index(min_mae_1)]\n",
    "\n",
    "print(f\"\\nEl menor RMSE es {min_rmse_1:.2f}, colsample_bytree = {optimal_n_estimators_rmse}\")\n",
    "print(f\"\\nEl menor MAE es {min_mae_1:.2f}, colsample_bytree = {optimal_n_estimators_mae}\")"
   ]
  },
  {
   "cell_type": "code",
   "execution_count": 39,
   "metadata": {},
   "outputs": [
    {
     "data": {
      "image/png": "[encoded data removed]",
      "text/plain": [
       "<Figure size 640x480 with 1 Axes>"
      ]
     },
     "metadata": {},
     "output_type": "display_data"
    }
   ],
   "source": [
    "plt.plot(colsample_bytree_cal, scr_rmse_cal)\n",
    "plt.xlabel('colsample_bytree')\n",
    "plt.ylabel('scr_rmse_cal')\n",
    "plt.show()"
   ]
  },
  {
   "cell_type": "code",
   "execution_count": 40,
   "metadata": {},
   "outputs": [
    {
     "data": {
      "image/png": "[encoded data removed]",
      "text/plain": [
       "<Figure size 640x480 with 1 Axes>"
      ]
     },
     "metadata": {},
     "output_type": "display_data"
    }
   ],
   "source": [
    "plt.plot(colsample_bytree_cal, scr_mae_cal)\n",
    "plt.xlabel('colsample_bytree')\n",
    "plt.ylabel('scr_mae_cal')\n",
    "plt.show()"
   ]
  },
  {
   "cell_type": "code",
   "execution_count": 41,
   "metadata": {},
   "outputs": [
    {
     "name": "stdout",
     "output_type": "stream",
     "text": [
      "Se observa que el error medido tanto con el RMSE como con el MAE tiende a estabilizarse en el parámetro colsample_bytree en el intervalo 0.8 - 1.0. En ese sentido, se elige el valor 0.8 en virtud de que brinda el menor RME con un valor de 1516.41.\n"
     ]
    }
   ],
   "source": [
    "print(\"Se observa que el error medido tanto con el RMSE como con el MAE tiende a estabilizarse en el parámetro colsample_bytree en el intervalo 0.8 - 1.0. \\\n",
    "En ese sentido, se elige el valor 0.8 en virtud de que brinda el menor RME con un valor de 1516.41.\")"
   ]
  },
  {
   "cell_type": "code",
   "execution_count": 42,
   "metadata": {},
   "outputs": [
    {
     "name": "stdout",
     "output_type": "stream",
     "text": [
      "1516.407118817371\n",
      "1117.23193359375\n"
     ]
    }
   ],
   "source": [
    "# Modelo calibrado\n",
    "xbg_def = XGBRegressor(learning_rate = 0.04, colsample_bytree=0.8)\n",
    "\n",
    "scr_rmse_def = math.sqrt(-1*(cross_val_score(xbg_def,X,y,cv=5,scoring='neg_mean_squared_error').mean()))\n",
    "scr_mae_def = -1 * (cross_val_score(xbg_def,X,y,cv=5,scoring='neg_mean_absolute_error').mean())\n",
    "\n",
    "print(scr_rmse_def)\n",
    "print(scr_mae_def)"
   ]
  },
  {
   "cell_type": "markdown",
   "metadata": {},
   "source": [
    "#### Respuesta: resultado XGBoost calibrado\n",
    "Se observa que, para el modelo calibrado, el RMSE (Raíz del Error Cuadrático Medio) es de 1516.40, y el MAE (Error Absoluto Medio) es de 1117.23.\n",
    "\n",
    "Lo anterior implica que el modelo XGboost que se generó en la celda anterior, se desvía arroneamente en 1516.40 unidades con respecto al precio real. Asimismo, de acuerdo con el MAE, el modelo también se estaría desviando en 1117.23 unidades (precio) con respecto a los valores reales.\n",
    "\n",
    "#### Respuesta: resultado XGBoost progreso con cada parámetro calibrado\n",
    "En primer lugar, se procedió con la calibración del parámetro learning_rate. Se realizó una iteración para todo el conjunto de valores datos por el intervalo 0.01 - 0.2 con incrementos de 0.01. Tanto el RMSE como el MAE parecen sugerir el error se minimiza al rededor del intervalo 0.03 - 0.05. De ahí que se utilizará un valor de 0.04 el cual corresponde a un RMSE de 1520.12. Posteriormente, en el caso del parámetro gamma, tanto el RMSE como el MAE parecen sugerir al variar dicho parámetro no se observa una variación en el error para los valores dados en el intervalo 0.01 - 1 con incrementos de 0.1. Es por esta razón que, para el parámetro gamma, se utilizará su valor por defecto. Por último, ne cuanto al parámetro colsample_bytree, se realizaron iteraciones para el intervalo 0.1 - 1.1 con incrementos de 0.1. Se observa que el error medido tanto con el RMSE como con el MAE tiende a estabilizarse en el parámetro colsample_bytree en el intervalo 0.8 - 1.0. En ese sentido, se elige el valor 0.8 en virtud de que brinda el menor RME con un valor de 1516.41.\n",
    "\n",
    "Finalmente, el modelo calibrado posee un RMSE de 1516.40 y un MAE de 1117.23."
   ]
  },
  {
   "cell_type": "markdown",
   "metadata": {},
   "source": [
    "### Punto 8 - Comparación y análisis de resultados\n",
    "En la celda 8 comparen los resultados obtenidos de los diferentes modelos (random forest y XGBoost) y comenten las ventajas del mejor modelo y las desventajas del modelo con el menor desempeño."
   ]
  },
  {
   "cell_type": "code",
   "execution_count": 43,
   "metadata": {},
   "outputs": [
    {
     "data": {
      "image/png": "[encoded data removed]",
      "text/plain": [
       "<Figure size 800x600 with 1 Axes>"
      ]
     },
     "metadata": {},
     "output_type": "display_data"
    }
   ],
   "source": [
    "# Celda 8\n",
    "modelos = [\"Random Forest\", \"Random Forest (Calibrado)\", \"XGBoost\", \"XGBoost (Calibrado)\"]\n",
    "rmse_scores = [rmse_sin_calibrar, rmse_random, scr_rmse, scr_rmse_def]\n",
    "mae_scores = [mae_sin_calibrar, mae_random, scr_mae, scr_mae_def]\n",
    "\n",
    "x = np.arange(len(modelos))\n",
    "\n",
    "plt.figure(figsize=(8, 6))\n",
    "\n",
    "# Gráfico de barras\n",
    "bars_rmse = plt.bar(x - 0.2, rmse_scores, 0.4, label=\"RMSE\", color=\"skyblue\", alpha=0.7)\n",
    "bars_mae = plt.bar(x + 0.2, mae_scores, 0.4, label=\"MAE\", color=\"green\", alpha=0.7)\n",
    "\n",
    "# Etiquetas en las barras\n",
    "for bar in bars_rmse:\n",
    "    plt.text(bar.get_x() + bar.get_width()/2, bar.get_height(), f'{bar.get_height():.2f}', \n",
    "             ha='center', va='bottom', fontsize=10)\n",
    "for bar in bars_mae:\n",
    "    plt.text(bar.get_x() + bar.get_width()/2, bar.get_height(), f'{bar.get_height():.2f}', \n",
    "             ha='center', va='bottom', fontsize=10)\n",
    "\n",
    "# Configuración del gráfico\n",
    "plt.xticks(x, modelos)\n",
    "plt.ylabel(\"Error\")\n",
    "plt.title(\"Comparación de RMSE y MAE entre los Modelos\")\n",
    "plt.legend()\n",
    "plt.ylim(0, max(max(rmse_scores), max(mae_scores)) + 0.1)\n",
    "plt.tight_layout()\n",
    "\n",
    "plt.show()"
   ]
  },
  {
   "cell_type": "markdown",
   "metadata": {},
   "source": [
    "XGBoost calibrado ofrece el menor RMSE y MAE, siendo claramente el modelo más robusto y preciso. \n",
    "Random Forest sin calibrar tiene el peor desempeño en ambas métricas, y representa el modelo menos confiable si se busca precisión en predicción de precios de automóviles.  \n",
    "La calibración mejora notablemente ambos modelos, pero XGBoost resultó ser el mejor, lo que es consistente con la literatura, ya que este modelo suele superar a Random Forest en muchos escenarios por su capacidad para manejar relaciones complejas entre variables y por sus herramientas integradas de regularización. \n",
    "\n",
    "**Ventajas mejor modelo: XGBoost Calibrado:**  \n",
    "- Este modelo muestra un mejor desempeño en ambas métricas (RMSE y MAE). En promedio, el modelo desvía solo $1117.23 respecto al valor real del auto.\n",
    "- Modelo más preciso al tener menor error cuadrátrico medio, lo cual es clave cuando los errores grandes son penalizados más fuertemente.  \n",
    "- La calibración (ajustando learning_rate y colsample_bytree) mejora la capacidad de generalización a nuevos datos .\n",
    "- Captura relaciones no lineales entre variables.\n",
    "- Regularización automática que previene sobreajuste.\n",
    "- Ideal si el precio del automovil esta afectado por múltiples interraciones entre variables.\n",
    "\n",
    "**Desventajas por modelo: Random Forest sin calibrar:**\n",
    "- Errores significativamente más altos. El modelo se desvía en promedio $1310.41, un 17% más que XGBoost Calibrado.\n",
    "- Al no aplicarse ajuste de hiperparámetros puede llevar a un rendimiento subóptimo por defecto.\n",
    "- Falta de tuning lo hace ineficiente para un problema con muchas variables correlacionadas.\n",
    "- Es más rígido que XGBoost en términos de regularización y no gestiona tan bien relaciones complejas o interacciones entre variables."
   ]
  }
 ],
 "metadata": {
  "kernelspec": {
   "display_name": "Python 3 (ipykernel)",
   "language": "python",
   "name": "python3"
  },
  "language_info": {
   "codemirror_mode": {
    "name": "ipython",
    "version": 3
   },
   "file_extension": ".py",
   "mimetype": "text/x-python",
   "name": "python",
   "nbconvert_exporter": "python",
   "pygments_lexer": "ipython3",
   "version": "3.12.2"
  }
 },
 "nbformat": 4,
 "nbformat_minor": 4
}
